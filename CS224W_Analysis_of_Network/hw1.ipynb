{
 "cells": [
  {
   "cell_type": "markdown",
   "metadata": {},
   "source": [
    "## Problem 1"
   ]
  },
  {
   "cell_type": "code",
   "execution_count": 3,
   "metadata": {
    "ExecuteTime": {
     "end_time": "2019-04-22T16:08:31.464000Z",
     "start_time": "2019-04-22T16:08:27.629000Z"
    }
   },
   "outputs": [],
   "source": [
    "################################################################################\n",
    "# CS 224W (Fall 2018) - HW1\n",
    "# Starter code for Problem 1\n",
    "# Author: praty@stanford.edu\n",
    "# Last Updated: Sep 27, 2018\n",
    "################################################################################\n",
    "\n",
    "import snap\n",
    "import numpy as np\n",
    "import matplotlib\n",
    "matplotlib.use('agg')\n",
    "import matplotlib.pyplot as plt\n",
    "\n",
    "# Setup\n",
    "erdosRenyi = None\n",
    "smallWorld = None\n",
    "collabNet = None\n"
   ]
  },
  {
   "cell_type": "code",
   "execution_count": 2,
   "metadata": {
    "ExecuteTime": {
     "end_time": "2019-04-21T20:09:21.669000Z",
     "start_time": "2019-04-21T20:09:21.654000Z"
    }
   },
   "outputs": [
    {
     "data": {
      "text/plain": [
       "array([0, 1, 2, 3, 4])"
      ]
     },
     "execution_count": 2,
     "metadata": {},
     "output_type": "execute_result"
    }
   ],
   "source": [
    "np.arange(5)"
   ]
  },
  {
   "cell_type": "code",
   "execution_count": 13,
   "metadata": {
    "ExecuteTime": {
     "end_time": "2019-04-21T21:47:47.269000Z",
     "start_time": "2019-04-21T21:47:47.254000Z"
    }
   },
   "outputs": [],
   "source": [
    "# Problem 1.1\n",
    "def genErdosRenyi(N=5242, E=14484):\n",
    "    \"\"\"\n",
    "    :param - N: number of nodes\n",
    "    :param - E: number of edges\n",
    "\n",
    "    return type: snap.PUNGraph\n",
    "    return: Erdos-Renyi graph with N nodes and E edges\n",
    "    \"\"\"\n",
    "    ############################################################################\n",
    "    # TODO: Your code here!\n",
    "    pairs = []\n",
    "    Graph = snap.TUNGraph.New()\n",
    "    for i in range(N):\n",
    "        Graph.AddNode(i)\n",
    "        for j in range(i + 1, N):\n",
    "            pairs.append((i, j))\n",
    "    idx = np.array(np.random.choice(len(pairs), E, replace=False))\n",
    "    pairs = np.array(pairs)\n",
    "    chosen_pairs = pairs[idx]\n",
    "    \n",
    "    for pair in chosen_pairs:\n",
    "        Graph.AddEdge(pair[0], pair[1])\n",
    "        assert(Graph.IsEdge(pair[1], pair[0]))\n",
    "\n",
    "    assert(Graph.GetEdges() == E)\n",
    "    assert(Graph.GetNodes() == N)\n",
    "    ############################################################################\n",
    "    return Graph\n",
    "\n"
   ]
  },
  {
   "cell_type": "code",
   "execution_count": 14,
   "metadata": {
    "ExecuteTime": {
     "end_time": "2019-04-21T21:47:50.361000Z",
     "start_time": "2019-04-21T21:47:50.351000Z"
    }
   },
   "outputs": [],
   "source": [
    "def genCircle(N=5242):\n",
    "    \"\"\"\n",
    "    :param - N: number of nodes\n",
    "\n",
    "    return type: snap.PUNGraph\n",
    "    return: Circle graph with N nodes and N edges. Imagine the nodes form a\n",
    "        circle and each node is connected to its two direct neighbors.\n",
    "    \"\"\"\n",
    "    ############################################################################\n",
    "    # TODO: Your code here!\n",
    "    Graph = snap.TUNGraph.New()\n",
    "    Graph.AddNode(0)\n",
    "    for i in range(1, N):\n",
    "        Graph.AddNode(i)\n",
    "        Graph.AddEdge(i-1, i)\n",
    "    Graph.AddEdge(N-1, 0)\n",
    "    assert(Graph.IsEdge(0, 1) and Graph.IsEdge(1, 0))\n",
    "    for i in range(N):\n",
    "        assert(Graph.GetNI(i).GetDeg() == 2)\n",
    "    ############################################################################\n",
    "    return Graph\n"
   ]
  },
  {
   "cell_type": "code",
   "execution_count": 15,
   "metadata": {
    "ExecuteTime": {
     "end_time": "2019-04-21T21:47:52.835000Z",
     "start_time": "2019-04-21T21:47:52.826000Z"
    }
   },
   "outputs": [],
   "source": [
    "def connectNbrOfNbr(Graph, N=5242):\n",
    "    \"\"\"\n",
    "    :param - Graph: snap.PUNGraph object representing a circle graph on N nodes\n",
    "    :param - N: number of nodes\n",
    "\n",
    "    return type: snap.PUNGraph\n",
    "    return: Graph object with additional N edges added by connecting each node\n",
    "        to the neighbors of its neighbors\n",
    "    \"\"\"\n",
    "    ############################################################################\n",
    "    # TODO: Your code here!\n",
    "    pairs = []\n",
    "    for i in range(N):\n",
    "        Graph.AddEdge(i, (i + 2) % N)\n",
    "    for i in range(N):\n",
    "        assert(Graph.GetNI(i).GetDeg() == 4)\n",
    "    ############################################################################\n",
    "    return Graph\n"
   ]
  },
  {
   "cell_type": "code",
   "execution_count": 16,
   "metadata": {
    "ExecuteTime": {
     "end_time": "2019-04-21T21:47:59.485000Z",
     "start_time": "2019-04-21T21:47:59.473000Z"
    }
   },
   "outputs": [],
   "source": [
    "def connectRandomNodes(Graph, M=4000):\n",
    "    \"\"\"\n",
    "    :param - Graph: snap.PUNGraph object representing an undirected graph\n",
    "    :param - M: number of edges to be added\n",
    "\n",
    "    return type: snap.PUNGraph\n",
    "    return: Graph object with additional M edges added by connecting M randomly\n",
    "        selected pairs of nodes not already connected.\n",
    "    \"\"\"\n",
    "    ############################################################################\n",
    "    # TODO: Your code here!\n",
    "    pairs = []\n",
    "    for i in range(Graph.GetNodes()):\n",
    "        for j in range(i+1, Graph.GetNodes()):\n",
    "            if not Graph.IsEdge(i, j):\n",
    "                pairs.append((i, j))\n",
    "    idx = np.array(np.random.choice(len(pairs), M, replace=False))\n",
    "    pairs = np.array(pairs)\n",
    "    chosen_pairs = pairs[idx]\n",
    "    for pair in chosen_pairs:\n",
    "        Graph.AddEdge(pair[0], pair[1])\n",
    "    ############################################################################\n",
    "    return Graph\n"
   ]
  },
  {
   "cell_type": "code",
   "execution_count": 17,
   "metadata": {
    "ExecuteTime": {
     "end_time": "2019-04-21T21:48:01.423000Z",
     "start_time": "2019-04-21T21:48:01.414000Z"
    }
   },
   "outputs": [],
   "source": [
    "def genSmallWorld(N=5242, E=14484):\n",
    "    \"\"\"\n",
    "    :param - N: number of nodes\n",
    "    :param - E: number of edges\n",
    "\n",
    "    return type: snap.PUNGraph\n",
    "    return: Small-World graph with N nodes and E edges\n",
    "    \"\"\"\n",
    "    Graph = genCircle(N) #generate a ring\n",
    "    Graph = connectNbrOfNbr(Graph, N) # generate regular lattice\n",
    "    Graph = connectRandomNodes(Graph, 4000) #rewire edges to generate small world model\n",
    "    return Graph"
   ]
  },
  {
   "cell_type": "code",
   "execution_count": 18,
   "metadata": {
    "ExecuteTime": {
     "end_time": "2019-04-21T21:48:03.808000Z",
     "start_time": "2019-04-21T21:48:03.798000Z"
    }
   },
   "outputs": [],
   "source": [
    "def loadCollabNet(path):\n",
    "    \"\"\"\n",
    "    :param - path: path to edge list file\n",
    "\n",
    "    return type: snap.PUNGraph\n",
    "    return: Graph loaded from edge list at `path and self edges removed\n",
    "\n",
    "    Do not forget to remove the self edges!\n",
    "    \"\"\"\n",
    "    ############################################################################\n",
    "    # TODO: Your code here!\n",
    "    Graph = snap.LoadEdgeList(snap.PUNGraph, path, 0, 1)\n",
    "    for node in Graph.Nodes():\n",
    "        if Graph.IsEdge(node.GetId(), node.GetId()):\n",
    "            Graph.DelEdge(node.GetId(), node.GetId())\n",
    "    assert Graph.GetEdges() == 14484\n",
    "    ############################################################################\n",
    "    return Graph\n"
   ]
  },
  {
   "cell_type": "code",
   "execution_count": 19,
   "metadata": {
    "ExecuteTime": {
     "end_time": "2019-04-21T21:48:05.759000Z",
     "start_time": "2019-04-21T21:48:05.747000Z"
    }
   },
   "outputs": [],
   "source": [
    "def getDataPointsToPlot(Graph):\n",
    "    \"\"\"\n",
    "    :param - Graph: snap.PUNGraph object representing an undirected graph\n",
    "\n",
    "    return values:\n",
    "    X: list of degrees\n",
    "    Y: list of frequencies: Y[i] = fraction of nodes with degree X[i]\n",
    "    \"\"\"\n",
    "    ############################################################################\n",
    "    # TODO: Your code here!\n",
    "    X, Y = [], []\n",
    "    degree_map = {}\n",
    "    for node in Graph.Nodes():\n",
    "        if node.GetDeg() not in degree_map.keys():\n",
    "            degree_map[node.GetDeg()] = 0\n",
    "        degree_map[node.GetDeg()] += 1\n",
    "    for deg in degree_map.keys():\n",
    "        X.append(deg)\n",
    "        Y.append(float(degree_map[deg]) / Graph.GetNodes())\n",
    "    print len(X)\n",
    "    ############################################################################\n",
    "    return X, Y\n"
   ]
  },
  {
   "cell_type": "code",
   "execution_count": 20,
   "metadata": {
    "ExecuteTime": {
     "end_time": "2019-04-21T21:48:25.912000Z",
     "start_time": "2019-04-21T21:48:08.744000Z"
    }
   },
   "outputs": [
    {
     "name": "stdout",
     "output_type": "stream",
     "text": [
      "17\n",
      "9\n",
      "66\n"
     ]
    }
   ],
   "source": [
    "def Q1_1():\n",
    "    \"\"\"\n",
    "    Code for HW1 Q1.1\n",
    "    \"\"\"\n",
    "    global erdosRenyi, smallWorld, collabNet\n",
    "    erdosRenyi = genErdosRenyi(5242, 14484)\n",
    "    smallWorld = genSmallWorld(5242, 14484)\n",
    "    collabNet = loadCollabNet(\"ca-GrQc.txt\")\n",
    "    assert(smallWorld is not None)\n",
    "    assert(erdosRenyi is not None)\n",
    "    x_erdosRenyi, y_erdosRenyi = getDataPointsToPlot(erdosRenyi)\n",
    "    plt.loglog(x_erdosRenyi, y_erdosRenyi, color = 'y', label = 'Erdos Renyi Network')\n",
    "\n",
    "    x_smallWorld, y_smallWorld = getDataPointsToPlot(smallWorld)\n",
    "    plt.loglog(x_smallWorld, y_smallWorld, linestyle = 'dashed', color = 'r', label = 'Small World Network')\n",
    "\n",
    "    x_collabNet, y_collabNet = getDataPointsToPlot(collabNet)\n",
    "    plt.loglog(x_collabNet, y_collabNet, linestyle = 'dotted', color = 'b', label = 'Collaboration Network')\n",
    "\n",
    "    plt.xlabel('Node Degree (log)')\n",
    "    plt.ylabel('Proportion of Nodes with a Given Degree (log)')\n",
    "    plt.title('Degree Distribution of Erdos Renyi, Small World, and Collaboration Networks')\n",
    "    plt.legend()\n",
    "    plt.savefig('q1_plots.png')\n",
    "\n",
    "\n",
    "# Execute code for Q1.1\n",
    "Q1_1()\n",
    "\n"
   ]
  },
  {
   "cell_type": "code",
   "execution_count": 21,
   "metadata": {
    "ExecuteTime": {
     "end_time": "2019-04-21T22:32:28.222000Z",
     "start_time": "2019-04-21T22:32:27.326000Z"
    }
   },
   "outputs": [
    {
     "name": "stdout",
     "output_type": "stream",
     "text": [
      "Clustering Coefficient for Erdos Renyi Network: 0.001480\n",
      "Clustering Coefficient for Small World Network: 0.283280\n",
      "Clustering Coefficient for Collaboration Network: 0.529636\n",
      "Computed using library functions...\n",
      "Clustering Coefficient for Erdos Renyi Network: 0.001480\n",
      "Clustering Coefficient for Small World Network: 0.283280\n",
      "Clustering Coefficient for Collaboration Network: 0.529636\n"
     ]
    }
   ],
   "source": [
    "# Problem 1.2 - Clustering Coefficient\n",
    "\n",
    "def calcClusteringCoefficientSingleNode(Node, Graph):\n",
    "    \"\"\"\n",
    "    :param - Node: node from snap.PUNGraph object. Graph.Nodes() will give an\n",
    "                   iterable of nodes in a graph\n",
    "    :param - Graph: snap.PUNGraph object representing an undirected graph\n",
    "\n",
    "    return type: float\n",
    "    returns: local clustering coeffient of Node\n",
    "    \"\"\"\n",
    "    ############################################################################\n",
    "    # TODO: Your code here!\n",
    "    C = 0.0\n",
    "    if Node.GetDeg() < 2:\n",
    "        return C\n",
    "    ei = 0.0\n",
    "    for i in range(Node.GetDeg()):\n",
    "        for j in range(i + 1, Node.GetDeg()):\n",
    "            if Graph.IsEdge(Node.GetNbrNId(i), Node.GetNbrNId(j)):\n",
    "                ei += 1\n",
    "    \n",
    "    assert(ei <= (Node.GetDeg() * (Node.GetDeg() - 1)) / 2)\n",
    "    C = 2.0 * ei / (Node.GetDeg() * (Node.GetDeg() - 1))\n",
    "    ############################################################################\n",
    "    return C\n",
    "\n",
    "def calcClusteringCoefficient(Graph):\n",
    "    \"\"\"\n",
    "    :param - Graph: snap.PUNGraph object representing an undirected graph\n",
    "\n",
    "    return type: float\n",
    "    returns: clustering coeffient of Graph\n",
    "    \"\"\"\n",
    "    ############################################################################\n",
    "    # TODO: Your code here! If you filled out calcClusteringCoefficientSingleNode,\n",
    "    #       you'll probably want to call it in a loop here\n",
    "    C = 0.0\n",
    "    for node in Graph.Nodes():\n",
    "        Ci = calcClusteringCoefficientSingleNode(node, Graph)\n",
    "        C += Ci\n",
    "    C /= float(Graph.GetNodes())\n",
    "    ############################################################################\n",
    "    return C\n",
    "\n",
    "def Q1_2():\n",
    "    \"\"\"\n",
    "    Code for Q1.2\n",
    "    \"\"\"\n",
    "    C_erdosRenyi = calcClusteringCoefficient(erdosRenyi)\n",
    "    C_smallWorld = calcClusteringCoefficient(smallWorld)\n",
    "    C_collabNet = calcClusteringCoefficient(collabNet)\n",
    "\n",
    "    print('Clustering Coefficient for Erdos Renyi Network: %f' % C_erdosRenyi)\n",
    "    print('Clustering Coefficient for Small World Network: %f' % C_smallWorld)\n",
    "    print('Clustering Coefficient for Collaboration Network: %f' % C_collabNet)\n",
    "    \n",
    "    print 'Computed using library functions...'\n",
    "    \n",
    "    C_erdosRenyi = snap.GetClustCf(erdosRenyi, 5242)\n",
    "    C_smallWorld =  snap.GetClustCf(smallWorld, 5242)\n",
    "    C_collabNet = snap.GetClustCf(collabNet, 5242)\n",
    "\n",
    "    print('Clustering Coefficient for Erdos Renyi Network: %f' % C_erdosRenyi)\n",
    "    print('Clustering Coefficient for Small World Network: %f' % C_smallWorld)\n",
    "    print('Clustering Coefficient for Collaboration Network: %f' % C_collabNet)\n",
    "    \n",
    "\n",
    "# Execute code for Q1.2\n",
    "Q1_2()"
   ]
  },
  {
   "cell_type": "markdown",
   "metadata": {},
   "source": [
    "## Problem 2"
   ]
  },
  {
   "cell_type": "code",
   "execution_count": 4,
   "metadata": {
    "ExecuteTime": {
     "end_time": "2019-04-22T16:08:44.015000Z",
     "start_time": "2019-04-22T16:08:44.005000Z"
    }
   },
   "outputs": [],
   "source": [
    "def load_graph(name):\n",
    "    '''\n",
    "    Helper function to load graphs.\n",
    "    Wse \"epinions\" for Epinions graph and \"email\" for Email graph.\n",
    "    Check that the respective .txt files are in the same folder as this script;\n",
    "    if not, change the paths below as required.\n",
    "    '''\n",
    "    if name == \"epinions\":\n",
    "        G = snap.LoadEdgeList(snap.PNGraph, \"soc-Epinions1.txt\", 0, 1)\n",
    "    elif name == 'email':\n",
    "        G = snap.LoadEdgeList(snap.PNGraph, \"email-EuAll.txt\", 0, 1)   \n",
    "    else: \n",
    "        raise ValueError(\"Invalid graph: please use 'email' or 'epinions'.\")\n",
    "    return G\n",
    "\n"
   ]
  },
  {
   "cell_type": "code",
   "execution_count": 4,
   "metadata": {
    "ExecuteTime": {
     "end_time": "2019-04-22T03:01:33.289000Z",
     "start_time": "2019-04-22T03:01:33.270000Z"
    }
   },
   "outputs": [],
   "source": [
    "def q2_1():\n",
    "    '''\n",
    "    You will have to run the inward and outward BFS trees for the \n",
    "    respective nodes and reason about whether they are in SCC, IN or OUT.\n",
    "    You may find the SNAP function GetBfsTree() to be useful here.\n",
    "    '''\n",
    "    def in_out_bfs_for_node(graph, node):\n",
    "        print 'Starting at node: ' , str(node)\n",
    "        bfs_out = snap.GetBfsTree(graph, node, True, False)\n",
    "        bfs_in = snap.GetBfsTree(graph, node, False, True)\n",
    "        print 'Out size = ' , str(bfs_out.GetEdges()) , ', In size = ' , str(bfs_in.GetEdges())\n",
    "\n",
    "\n",
    "    def in_out_bfs(graph, name):\n",
    "        print 'In/Out BFS tree size for graph: ' , name\n",
    "        if name == 'email':\n",
    "            in_out_bfs_for_node(graph, 2018)\n",
    "        else:\n",
    "            in_out_bfs_for_node(graph, 224)\n",
    "                \n",
    "    ##########################################################################\n",
    "    #TODO: Run outward and inward BFS trees from node 2018, compare sizes \n",
    "    #and comment on where node 2018 lies.\n",
    "    G = load_graph(\"email\")\n",
    "    #Your code here:\n",
    "    in_out_bfs(G, 'email')\n",
    "    ##########################################################################\n",
    "    \n",
    "    ##########################################################################\n",
    "    #TODO: Run outward and inward BFS trees from node 224, compare sizes \n",
    "    #and comment on where node 224 lies.\n",
    "    G = load_graph(\"epinions\")\n",
    "    #Your code here:\n",
    "    in_out_bfs(G, 'epinions')\n",
    "    \n",
    "    ##########################################################################\n",
    "    print '2.1: Done!\\n'\n"
   ]
  },
  {
   "cell_type": "code",
   "execution_count": 5,
   "metadata": {
    "ExecuteTime": {
     "end_time": "2019-04-22T03:01:36.940000Z",
     "start_time": "2019-04-22T03:01:35.826000Z"
    }
   },
   "outputs": [
    {
     "name": "stdout",
     "output_type": "stream",
     "text": [
      "In/Out BFS tree size for graph:  email\n",
      "Starting at node:  2018\n",
      "Out size =  70318 , In size =  0\n",
      "In/Out BFS tree size for graph:  epinions\n",
      "Starting at node:  224\n",
      "Out size =  100012 , In size =  124677\n",
      "2.1: Done!\n",
      "\n"
     ]
    }
   ],
   "source": [
    "q2_1()"
   ]
  },
  {
   "cell_type": "code",
   "execution_count": 6,
   "metadata": {
    "ExecuteTime": {
     "end_time": "2019-04-22T03:14:49.777000Z",
     "start_time": "2019-04-22T03:14:49.748000Z"
    }
   },
   "outputs": [],
   "source": [
    "def q2_2():\n",
    "    '''\n",
    "    For each graph, get 100 random nodes and find the number of nodes in their\n",
    "    inward and outward BFS trees starting from each node. Plot the cumulative\n",
    "    number of nodes reached in the BFS runs, similar to the graph shown in \n",
    "    Broder et al. (see Figure in handout). You will need to have 4 figures,\n",
    "    one each for the inward and outward BFS for each of email and epinions.\n",
    "    \n",
    "    Note: You may find the SNAP function GetRndNId() useful to get random\n",
    "    node IDs (for initializing BFS).\n",
    "    '''\n",
    "    ##########################################################################\n",
    "    #TODO: See above.\n",
    "    #Your code here:\n",
    "    \n",
    "    def reachable_analysis(graph, name):\n",
    "        reached_out_cum = []\n",
    "        reached_in_cum = []\n",
    "        for i in range(100):\n",
    "            node = graph.GetRndNId()\n",
    "            bfs_out = snap.GetBfsTree(graph, node, True, False)\n",
    "            bfs_in = snap.GetBfsTree(graph, node, False, True)\n",
    "            reached_out_cum.append(bfs_out.GetNodes())\n",
    "            reached_in_cum.append(bfs_in.GetNodes())\n",
    "\n",
    "        reached_out_cum = sorted(reached_out_cum)\n",
    "        reached_in_cum = sorted(reached_in_cum)\n",
    "\n",
    "        y = reached_out_cum\n",
    "        if True:#name == 'epinions':\n",
    "            plt.plot(y, label='Reachability using outlinks for %s' % name)\n",
    "            plt.yscale('log')\n",
    "        #else:\n",
    "        #    plt.plot(y, label='Reachability using outlinks for %s' % name)\n",
    "        plt.savefig('outlinks_%s.png' % name)\n",
    "        plt.close()\n",
    "\n",
    "        y = reached_in_cum\n",
    "        if True:#name == 'email':\n",
    "            plt.plot(y, label='Reachability using inlinks for %s' % name)\n",
    "            plt.yscale('log')\n",
    "        #else:\n",
    "        #    plt.plot(y, label='Reachability using inlinks for %s' % name)\n",
    "        plt.savefig('inlinks_%s.png' % name)\n",
    "        plt.close()\n",
    "\n",
    "    reachable_analysis(load_graph('email'), 'email')\n",
    "    reachable_analysis(load_graph('epinions'), 'epinions')\n",
    "    ##########################################################################\n",
    "    print '2.2: Done!\\n'\n",
    "\n"
   ]
  },
  {
   "cell_type": "code",
   "execution_count": 8,
   "metadata": {
    "ExecuteTime": {
     "end_time": "2019-04-22T03:43:18.442000Z",
     "start_time": "2019-04-22T03:43:18.420000Z"
    }
   },
   "outputs": [],
   "source": [
    "def q2_3():\n",
    "    '''\n",
    "    For each graph, determine the size of the following regions:\n",
    "        DISCONNECTED\n",
    "        IN\n",
    "        OUT\n",
    "        SCC\n",
    "        TENDRILS + TUBES\n",
    "        \n",
    "    You can use SNAP functions GetMxWcc() and GetMxScc() to get the sizes of \n",
    "    the largest WCC and SCC on each graph. \n",
    "    '''\n",
    "    ##########################################################################\n",
    "    #TODO: See above.\n",
    "    #Your code here:\n",
    "    def per_graph(graph, name):\n",
    "        mxWcc = snap.GetMxWcc(graph)\n",
    "        mxScc = snap.GetMxScc(graph)\n",
    "        print ''\n",
    "        print 'Size analysis on {}'.format(name)\n",
    "        print 'Disconnected size = {}'.format(graph.GetNodes() - mxWcc.GetNodes())\n",
    "        print 'SCC size = {}'.format(mxScc.GetNodes())\n",
    "        \n",
    "        trials = 200\n",
    "        avg_reached_out = 0\n",
    "        avg_reached_in = 0\n",
    "        for _ in range(trials):\n",
    "            nodeId = mxScc.GetRndNId()\n",
    "            avg_reached_out += snap.GetBfsTree(graph, nodeId, True, False).GetNodes()\n",
    "            avg_reached_in += snap.GetBfsTree(graph, nodeId, False, True).GetNodes()\n",
    "\n",
    "        scc_out = float(avg_reached_out) / trials\n",
    "        scc_in = float(avg_reached_in) / trials\n",
    "\n",
    "        out_sz = scc_out - mxScc.GetNodes()\n",
    "        in_sz = scc_in - mxScc.GetNodes()\n",
    "        print 'OUT size = {}'.format(out_sz)\n",
    "        print 'IN size = {}'.format(in_sz)\n",
    "        print 'Tendrils/Tubes size = {}'.format(mxWcc.GetNodes() - mxScc.GetNodes() - out_sz - in_sz)\n",
    "    \n",
    "    per_graph(load_graph('email'), 'email')\n",
    "    per_graph(load_graph('epinions'), 'epinions')\n",
    "\n",
    "    ##########################################################################\n",
    "    print '2.3: Done!\\n' \n",
    "\n"
   ]
  },
  {
   "cell_type": "code",
   "execution_count": 9,
   "metadata": {
    "ExecuteTime": {
     "end_time": "2019-04-22T03:46:40.656000Z",
     "start_time": "2019-04-22T03:43:37.792000Z"
    }
   },
   "outputs": [
    {
     "name": "stdout",
     "output_type": "stream",
     "text": [
      "\n",
      "Size analysis on email\n",
      "Disconnected size = 40382\n",
      "SCC size = 34203\n",
      "OUT size = 17900.0\n",
      "IN size = 151023.0\n",
      "Tendrils/Tubes size = 21706.0\n",
      "\n",
      "Size analysis on epinions\n",
      "Disconnected size = 2\n",
      "SCC size = 32223\n",
      "OUT size = 15453.0\n",
      "IN size = 24236.0\n",
      "Tendrils/Tubes size = 3965.0\n",
      "2.3: Done!\n",
      "\n"
     ]
    }
   ],
   "source": [
    "q2_3()"
   ]
  },
  {
   "cell_type": "code",
   "execution_count": 1,
   "metadata": {
    "ExecuteTime": {
     "end_time": "2019-04-22T16:08:04.856000Z",
     "start_time": "2019-04-22T16:08:04.844000Z"
    }
   },
   "outputs": [],
   "source": [
    "def q2_4():\n",
    "    '''\n",
    "    For each graph, calculate the probability that a path exists between\n",
    "    two nodes chosen uniformly from the overall graph.\n",
    "    You can do this by choosing a large number of pairs of random nodes\n",
    "    and calculating the fraction of these pairs which are connected.\n",
    "    The following SNAP functions may be of help: GetRndNId(), GetShortPath()\n",
    "    '''\n",
    "    ##########################################################################\n",
    "    #TODO: See above.\n",
    "    #Your code here\n",
    "    \n",
    "    def calc_path_prob(graph):\n",
    "        trials = 1000\n",
    "        reachable_count = 0\n",
    "        for _ in range(trials):\n",
    "            node1 = graph.GetRndNId()\n",
    "            node2 = graph.GetRndNId()\n",
    "            shortestPath = snap.GetShortPath(graph, node1, node2, True)\n",
    "            if shortestPath > 0:\n",
    "                reachable_count += 1\n",
    "        return float(reachable_count) / float(trials)\n",
    "    \n",
    "    print 'email reachable prob = %f' % calc_path_prob(load_graph('email'))\n",
    "    print 'epinions reachable prob = %f' % calc_path_prob(load_graph('epinions'))\n",
    "    ##########################################################################\n",
    "    print '2.4: Done!\\n'"
   ]
  },
  {
   "cell_type": "code",
   "execution_count": 5,
   "metadata": {
    "ExecuteTime": {
     "end_time": "2019-04-22T16:09:02.555000Z",
     "start_time": "2019-04-22T16:08:47.907000Z"
    },
    "scrolled": true
   },
   "outputs": [
    {
     "name": "stdout",
     "output_type": "stream",
     "text": [
      "email reachable prob = 0.126000\n",
      "epinions reachable prob = 0.460000\n",
      "2.4: Done!\n",
      "\n"
     ]
    }
   ],
   "source": [
    "q2_4()"
   ]
  },
  {
   "cell_type": "markdown",
   "metadata": {},
   "source": [
    "## Problem 4"
   ]
  },
  {
   "cell_type": "code",
   "execution_count": 7,
   "metadata": {
    "ExecuteTime": {
     "end_time": "2019-04-23T15:38:03.756000Z",
     "start_time": "2019-04-23T15:38:03.357000Z"
    }
   },
   "outputs": [
    {
     "name": "stderr",
     "output_type": "stream",
     "text": [
      "d:\\Users\\great\\Anaconda3\\envs\\py27\\lib\\site-packages\\ipykernel_launcher.py:2: DeprecationWarning: the sets module is deprecated\n",
      "  \n"
     ]
    }
   ],
   "source": [
    "import snap\n",
    "from sets import Set\n",
    "import os\n",
    "import numpy as np\n",
    "import matplotlib\n",
    "matplotlib.use('agg')\n",
    "import matplotlib.pyplot as plt"
   ]
  },
  {
   "cell_type": "code",
   "execution_count": null,
   "metadata": {},
   "outputs": [],
   "source": [
    "def main():\n",
    "    graph = load_graph()\n",
    "    print_graph_stats(graph)\n",
    "    make_plots(graph)    \n",
    "    hdn = build_hdn(graph)\n",
    "    contraction(graph, hdn)\n",
    "    max_clique(graph)\n",
    "    disease_sim(graph)\n",
    "   \n",
    "main()\n"
   ]
  },
  {
   "cell_type": "code",
   "execution_count": 9,
   "metadata": {
    "ExecuteTime": {
     "end_time": "2019-04-23T15:39:18.748000Z",
     "start_time": "2019-04-23T15:39:16.804000Z"
    },
    "scrolled": true
   },
   "outputs": [
    {
     "name": "stdout",
     "output_type": "stream",
     "text": [
      "nodes = 37444\n",
      "num diseases = 20370\n",
      "num genes = 17074\n",
      "edges = 561119\n"
     ]
    }
   ],
   "source": [
    "def load_graph():\n",
    "    '''\n",
    "    Helper function to load graphs.\n",
    "    Wse \"epinions\" for Epinions graph and \"email\" for Email graph.\n",
    "    Check that the respective .txt files are in the same folder as this script;\n",
    "    if not, change the paths below as required.\n",
    "    '''    \n",
    "    G = snap.LoadEdgeList(snap.PUNGraph, 'all_gene_disease_associations.csv', 0, 2, ',')\n",
    "    assert not G.Empty() # check if graph is empty\n",
    "    assert G.IsNode(200001418) # check is nodeID = 200001418 is a node of the graph\n",
    "    assert G.IsNode(10) # same thing as above\n",
    "    return G\n",
    "\n",
    "def is_gene(node):\n",
    "    return node.GetId() < 200E6 # 200E6 = 200000000\n",
    "\n",
    "def print_graph_stats(graph):\n",
    "    print 'nodes = {}'.format(graph.GetNodes())\n",
    "    \n",
    "    disease_set = set([])\n",
    "    gene_set = set([])\n",
    "    for node in graph.Nodes():\n",
    "        if not is_gene(node):\n",
    "            disease_set.add(node.GetId())\n",
    "        else:\n",
    "            gene_set.add(node.GetId())\n",
    "    print 'num diseases = {}'.format(len(disease_set))\n",
    "    print 'num genes = {}'.format(len(gene_set))\n",
    "    print 'edges = {}'.format(graph.GetEdges())\n",
    "\n",
    "def make_plots(graph):\n",
    "    gene_deg_counts = {}\n",
    "    disease_deg_counts = {}\n",
    "    for node in graph.Nodes():\n",
    "        if is_gene(node):\n",
    "            if node.GetDeg() not in gene_deg_counts.keys():\n",
    "                gene_deg_counts[node.GetDeg()] = 0\n",
    "            gene_deg_counts[node.GetDeg()] += 1\n",
    "        else:\n",
    "            if node.GetDeg() not in disease_deg_counts.keys():\n",
    "                disease_deg_counts[node.GetDeg()] = 0\n",
    "            disease_deg_counts[node.GetDeg()] += 1\n",
    "        \n",
    "    deg_counts_plot(disease_deg_counts, 'blue', 'disease')\n",
    "    deg_counts_plot(gene_deg_counts, 'green', 'gene')\n",
    "    plt.savefig('deg_counts_plot.png')\n",
    "\n",
    "\n",
    "def deg_counts_plot(deg_counts, color, label):\n",
    "    x = []\n",
    "    y = []\n",
    "    for key in sorted(deg_counts.keys()):\n",
    "        if key == 0 or deg_counts[key] == 0:\n",
    "            continue\n",
    "        x.append(key)\n",
    "        y.append(deg_counts[key])\n",
    "\n",
    "    x = np.log10(x)\n",
    "    y = np.log10(y)\n",
    "    plt.plot(x, y, color=color, linestyle=\"\", marker=\"o\", label = label)\n",
    "    plt.legend()\n",
    "\n",
    "def q4_1():\n",
    "    graph = load_graph()\n",
    "    print_graph_stats(graph)\n",
    "    make_plots(graph)\n",
    "    \n",
    "q4_1()"
   ]
  },
  {
   "cell_type": "code",
   "execution_count": 13,
   "metadata": {
    "ExecuteTime": {
     "end_time": "2019-04-23T18:02:48.014000Z",
     "start_time": "2019-04-23T18:01:49.511000Z"
    }
   },
   "outputs": [
    {
     "name": "stdout",
     "output_type": "stream",
     "text": [
      "\n",
      "HDN graph\n",
      "nodes = 20370\n",
      "edges = 12892536\n",
      "density = 0.0621452030364\n",
      "clust coef = 0.793551293105\n"
     ]
    }
   ],
   "source": [
    "def build_hdn(graph):\n",
    "    if os.path.exists('hdn.graph'):\n",
    "        fin = snap.TFIn('hdn.graph') #load exsit graph\n",
    "        dgraph = snap.TUNGraph.Load(fin)\n",
    "    else:\n",
    "        dgraph = snap.TUNGraph.New() #disease network 'Human Disease Network'\n",
    "        ggraph = snap.TUNGraph.New() #gene network\n",
    "        for node in graph.Nodes():\n",
    "            if is_gene(node):\n",
    "                ggraph.AddNode(node.GetId())\n",
    "            else:\n",
    "               dgraph.AddNode(node.GetId())\n",
    "        for i in dgraph.Nodes():\n",
    "            print 'node {}'.format(i.GetId())\n",
    "            j = dgraph.GetNI(i.GetId()) # j is an iterator\n",
    "            j.Next() # node with node id next to j\n",
    "            while j < dgraph.EndNI(): # EndNI is an iterator as j, two iterators are comparable.\n",
    "                if i.GetId() == j.GetId():\n",
    "                    continue\n",
    "                if dgraph.IsEdge(i.GetId(), j.GetId()):\n",
    "                    continue\n",
    "                i_neighbors = get_neighbors(graph, i.GetId()) # find neighbors of node i in the bipartite network\n",
    "                j_neighbors = get_neighbors(graph, j.GetId())\n",
    "                if len(i_neighbors.intersection(j_neighbors)) > 0: #  project unweighted undirected network\n",
    "                    dgraph.AddEdge(i.GetId(), j.GetId())\n",
    "                j.Next()\n",
    "\n",
    "        fout = snap.TFOut('hdn.graph') # save graph in binary format\n",
    "        dgraph.Save(fout)\n",
    "        fout.Flush()\n",
    "\n",
    "    print ''\n",
    "    print 'HDN graph'\n",
    "    print 'nodes = {}'.format(dgraph.GetNodes())\n",
    "    print 'edges = {}'.format(dgraph.GetEdges())\n",
    "    print 'density = {}'.format(2.0 * dgraph.GetEdges() / (dgraph.GetNodes() * (dgraph.GetNodes() - 1.0)))\n",
    "    print 'clust coef = {}'.format(snap.GetClustCf(dgraph, 1000))\n",
    "    return dgraph\n",
    "\n",
    "def get_neighbors(graph, nodeId, othergraph=None):\n",
    "    n = set([])\n",
    "    for i in range(graph.GetNI(nodeId).GetDeg()): #graph.GetNI(nodeId).GetDeg()\n",
    "        nid = graph.GetNI(nodeId).GetNbrNId(i)\n",
    "        if othergraph is not None:\n",
    "            if not othergraph.IsNode(nid):\n",
    "                continue\n",
    "        n.add(nid)\n",
    "    return n\n",
    "\n",
    "\n",
    "graph = load_graph()\n",
    "hdn = build_hdn(graph)\n"
   ]
  },
  {
   "cell_type": "code",
   "execution_count": 14,
   "metadata": {
    "ExecuteTime": {
     "end_time": "2019-04-23T18:28:50.869000Z",
     "start_time": "2019-04-23T18:28:50.812000Z"
    },
    "scrolled": true
   },
   "outputs": [
    {
     "name": "stdout",
     "output_type": "stream",
     "text": [
      "\n",
      "HDN max clique size = 1686\n"
     ]
    }
   ],
   "source": [
    "def max_clique(graph):\n",
    "    mxcl = 0\n",
    "    for node in graph.Nodes():\n",
    "        if is_gene(node):\n",
    "            sz = node.GetDeg()\n",
    "            if sz > mxcl:\n",
    "                mxcl = sz\n",
    "    print ''\n",
    "    print 'HDN max clique size = {}'.format(mxcl)\n",
    "    \n",
    "max_clique(graph)"
   ]
  },
  {
   "cell_type": "code",
   "execution_count": 15,
   "metadata": {
    "ExecuteTime": {
     "end_time": "2019-04-23T18:52:59.823000Z",
     "start_time": "2019-04-23T18:52:14.465000Z"
    },
    "scrolled": true
   },
   "outputs": [
    {
     "name": "stdout",
     "output_type": "stream",
     "text": [
      "\n",
      "Contracted graph stats\n",
      "clust cf = 0.901562081638\n",
      "density = 0.00433275563258\n",
      "nodes = 9233\n",
      "edges = 184660\n"
     ]
    }
   ],
   "source": [
    "def contraction(graph, hdn):\n",
    "    \n",
    "    supernodes = set([])\n",
    "\n",
    "    def contract_clique(node):\n",
    "        clique = get_neighbors(graph, node.GetId(), othergraph=hdn)\n",
    "        supernodeId = clique.pop()\n",
    "        assert(hdn.IsNode(supernodeId))\n",
    "        supernodes.add(supernodeId)\n",
    "        for nodeId in clique:\n",
    "            if nodeId in supernodes:\n",
    "                continue\n",
    "            for nbrId in get_neighbors(hdn, nodeId):\n",
    "                if not hdn.IsNode(nbrId):\n",
    "                    continue\n",
    "                assert(hdn.IsNode(supernodeId))\n",
    "                assert(hdn.IsNode(nbrId))\n",
    "                hdn.AddEdge(supernodeId, nbrId)\n",
    "            assert(not supernodeId == nodeId)\n",
    "            assert(nodeId not in supernodes)\n",
    "            hdn.DelNode(nodeId)\n",
    "            #graph.DelNode(nodeId)\n",
    "\n",
    "    node = graph.BegNI()\n",
    "    while node < graph.EndNI():\n",
    "        if is_gene(node) and node.GetDeg() > 250: \n",
    "            contract_clique(node)\n",
    "        node.Next()\n",
    "        \n",
    "    contracted = hdn\n",
    "    clust_cf = snap.GetClustCf(contracted, int(1000)) #compute clustering coef over a sample\n",
    "    print ''\n",
    "    print 'Contracted graph stats'\n",
    "    print 'clust cf = {}'.format(clust_cf)\n",
    "    print 'density = {}'.format(2.0 * contracted.GetEdges() / (contracted.GetNodes() * (contracted.GetNodes() - 1.0)))\n",
    "    print 'nodes = {}'.format(contracted.GetNodes())\n",
    "    print 'edges = {}'.format(contracted.GetEdges())\n",
    "\n",
    "contraction(graph, hdn)"
   ]
  },
  {
   "cell_type": "code",
   "execution_count": 16,
   "metadata": {
    "ExecuteTime": {
     "end_time": "2019-04-23T19:34:23.447000Z",
     "start_time": "2019-04-23T19:34:23.440000Z"
    }
   },
   "outputs": [],
   "source": [
    "a_node = set([])"
   ]
  },
  {
   "cell_type": "code",
   "execution_count": 21,
   "metadata": {
    "ExecuteTime": {
     "end_time": "2019-04-23T19:35:28.423000Z",
     "start_time": "2019-04-23T19:35:28.417000Z"
    }
   },
   "outputs": [],
   "source": [
    "a_node.add(3)"
   ]
  },
  {
   "cell_type": "code",
   "execution_count": 23,
   "metadata": {
    "ExecuteTime": {
     "end_time": "2019-04-23T19:35:44.296000Z",
     "start_time": "2019-04-23T19:35:44.286000Z"
    },
    "scrolled": false
   },
   "outputs": [
    {
     "data": {
      "text/plain": [
       "1"
      ]
     },
     "execution_count": 23,
     "metadata": {},
     "output_type": "execute_result"
    }
   ],
   "source": [
    "a_node.pop()"
   ]
  },
  {
   "cell_type": "code",
   "execution_count": 24,
   "metadata": {
    "ExecuteTime": {
     "end_time": "2019-04-23T19:35:49.206000Z",
     "start_time": "2019-04-23T19:35:49.196000Z"
    },
    "scrolled": true
   },
   "outputs": [
    {
     "data": {
      "text/plain": [
       "{2, 3}"
      ]
     },
     "execution_count": 24,
     "metadata": {},
     "output_type": "execute_result"
    }
   ],
   "source": [
    "a_node"
   ]
  },
  {
   "cell_type": "code",
   "execution_count": 25,
   "metadata": {
    "ExecuteTime": {
     "end_time": "2019-04-24T02:07:56.751000Z",
     "start_time": "2019-04-24T02:06:23.968000Z"
    }
   },
   "outputs": [
    {
     "name": "stdout",
     "output_type": "stream",
     "text": [
      "\n",
      "Scores for crohn using CN\n",
      "[200006142, 200009324, 200678222, 200027627, 200003873]\n",
      "[549, 497, 541, 493, 492]\n",
      "\n",
      "Scores for crohn using JA\n",
      "[200009324, 200033860, 200003873, 200021390, 200009319]\n",
      "[0.4034090909090909, 0.20563594821020564, 0.2188612099644128, 0.3675889328063241, 0.22916666666666666]\n",
      "\n",
      "Scores for leuk using CN\n",
      "[200027627, 200678222, 200006142, 202239176, 200596263]\n",
      "[1198, 1346, 1361, 1133, 1255]\n",
      "\n",
      "Scores for leuk using JA\n",
      "[200025202, 200026764, 200024299, 200023449, 200023467]\n",
      "[0.273531089560753, 0.27872670807453415, 0.32361166600079905, 0.3003613369467028, 0.41775557263643354]\n"
     ]
    }
   ],
   "source": [
    "def disease_sim(graph):\n",
    "    crohnid = 200000000 + 10346\n",
    "    leukid = 200000000 + 23418\n",
    "\n",
    "    def top_five_sim(nid, metric):\n",
    "        if nid == crohnid:\n",
    "            name = 'crohn'\n",
    "        else:\n",
    "            name = 'leuk'\n",
    "        print ''\n",
    "        print 'Scores for {} using {}'.format(name, metric)\n",
    "        top_five = []\n",
    "        top_five_scores = []\n",
    "        for node in graph.Nodes():\n",
    "            if is_gene(node):\n",
    "                continue\n",
    "            if nid == crohnid and node.GetId() == crohnid:\n",
    "                continue\n",
    "            if nid == leukid and node.GetId() == leukid:\n",
    "                continue\n",
    "            nid_nb = get_neighbors(graph, nid)\n",
    "            nb = get_neighbors(graph, node.GetId())\n",
    "            if metric == 'CN':\n",
    "                score = len(nid_nb.intersection(nb))\n",
    "            else:\n",
    "                score = len(nid_nb.intersection(nb)) / (1.0 * len(nid_nb.union(nb)))\n",
    "            if len(top_five) < 5:\n",
    "                top_five.append(node.GetId())\n",
    "                top_five_scores.append(score)\n",
    "            else:\n",
    "                min_ind = np.argmin(top_five_scores)\n",
    "                if score > top_five_scores[min_ind]:\n",
    "                    top_five[min_ind] = node.GetId()\n",
    "                    top_five_scores[min_ind] = score\n",
    "        print top_five\n",
    "        print top_five_scores\n",
    "\n",
    "    assert(graph.IsNode(crohnid))\n",
    "    assert(graph.IsNode(leukid))\n",
    "    top_five_sim(crohnid, 'CN')\n",
    "    top_five_sim(crohnid, 'JA')\n",
    "    top_five_sim(leukid, 'CN')\n",
    "    top_five_sim(leukid, 'JA')\n",
    "\n",
    "disease_sim(graph)"
   ]
  }
 ],
 "metadata": {
  "kernelspec": {
   "display_name": "Python 2",
   "language": "python",
   "name": "python2"
  },
  "language_info": {
   "codemirror_mode": {
    "name": "ipython",
    "version": 2
   },
   "file_extension": ".py",
   "mimetype": "text/x-python",
   "name": "python",
   "nbconvert_exporter": "python",
   "pygments_lexer": "ipython2",
   "version": "2.7.16"
  },
  "varInspector": {
   "cols": {
    "lenName": 16,
    "lenType": 16,
    "lenVar": 40
   },
   "kernels_config": {
    "python": {
     "delete_cmd_postfix": "",
     "delete_cmd_prefix": "del ",
     "library": "var_list.py",
     "varRefreshCmd": "print(var_dic_list())"
    },
    "r": {
     "delete_cmd_postfix": ") ",
     "delete_cmd_prefix": "rm(",
     "library": "var_list.r",
     "varRefreshCmd": "cat(var_dic_list()) "
    }
   },
   "types_to_exclude": [
    "module",
    "function",
    "builtin_function_or_method",
    "instance",
    "_Feature"
   ],
   "window_display": false
  }
 },
 "nbformat": 4,
 "nbformat_minor": 2
}
