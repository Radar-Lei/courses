{
 "cells": [
  {
   "cell_type": "code",
   "execution_count": 1,
   "metadata": {
    "ExecuteTime": {
     "end_time": "2019-04-20T20:02:11.590000Z",
     "start_time": "2019-04-20T20:02:11.292000Z"
    }
   },
   "outputs": [],
   "source": [
    "import matplotlib\n",
    "matplotlib.use(\"agg\")\n",
    "import snap\n",
    "import matplotlib.pyplot as plt\n",
    "import numpy as np\n"
   ]
  },
  {
   "cell_type": "code",
   "execution_count": 2,
   "metadata": {
    "ExecuteTime": {
     "end_time": "2019-04-20T20:02:14.473000Z",
     "start_time": "2019-04-20T20:02:14.453000Z"
    }
   },
   "outputs": [],
   "source": [
    "def stackoverflow():\n",
    "    g = snap.LoadEdgeList(snap.PNGraph, \"stackoverflow-Java.txt\", 0, 1)\n",
    "    components = snap.TCnComV()\n",
    "    snap.GetWccs(g, components)\n",
    "    print \"Num connected comp = \", components.Len()\n",
    "    mxwcc = snap.GetMxWcc(g)\n",
    "    print \"Num edges in largest = \", mxwcc.GetEdges()\n",
    "    print \"Num nodes in largest = \", mxwcc.GetNodes()\n",
    "    rank = snap.GetPageRank(g, rank)\n",
    "    rank.SortByDat(False)\n",
    "    count = 0\n",
    "    for node in rank:\n",
    "        if count >= 3:\n",
    "            break\n",
    "        count += 1\n",
    "        print \"largest page rank score nodes = \", node, \" (score = \", rank[node]\n",
    "\n",
    "    hubs = snap.TIntFltH()\n",
    "    auths = snap.TIntFltH()\n",
    "    snap.GetHits(g, hubs, auths)\n",
    "    \n",
    "    hubs.SortByDat(False)\n",
    "    count = 0\n",
    "    for node in hubs:\n",
    "        if count >= 3:\n",
    "            break\n",
    "        count += 1\n",
    "        print \"largest hub score nodes = \", node, \" (score = \", hubs[node]\n",
    "\n",
    "    auths.SortByDat(False)\n",
    "    count = 0\n",
    "    for node in auths:\n",
    "        if count >= 3:\n",
    "            break\n",
    "        count += 1\n",
    "        print \"largest auth score nodes = \", node, \" (score = \", auths[node]"
   ]
  },
  {
   "cell_type": "code",
   "execution_count": 9,
   "metadata": {
    "ExecuteTime": {
     "end_time": "2019-04-20T20:06:51.384000Z",
     "start_time": "2019-04-20T20:06:51.369000Z"
    }
   },
   "outputs": [],
   "source": [
    "def make_plots():\n",
    "    gwiki = snap.LoadEdgeList(snap.PNGraph, \"wiki-Vote.txt\", 0, 1)\n",
    "    out_deg_counts = {}\n",
    "    for node in gwiki.Nodes():\n",
    "        if node.GetOutDeg() not in out_deg_counts.keys():\n",
    "            out_deg_counts[node.GetOutDeg()] = 0\n",
    "        out_deg_counts[node.GetOutDeg()] += 1\n",
    "    x = []\n",
    "    y = []\n",
    "    for key in sorted(out_deg_counts.keys()):\n",
    "        if key == 0 or out_deg_counts[key] == 0:\n",
    "            continue\n",
    "        x.append(key)\n",
    "        y.append(out_deg_counts[key])\n",
    "\n",
    "    x = np.log10(x)\n",
    "    y = np.log10(y)\n",
    "    plt.plot(x, y, linestyle=\"\", marker=\"o\")\n",
    "    \n",
    "    coef = np.polyfit(x, y, 1)\n",
    "    polynomial = np.poly1d(coef)\n",
    "    y_estimated = polynomial(x)\n",
    "    plt.plot(x, y_estimated)\n",
    "    plt.savefig('out-degree-hist.png')   \n",
    "    print coef\n",
    "    print \"\"\n"
   ]
  },
  {
   "cell_type": "code",
   "execution_count": 4,
   "metadata": {
    "ExecuteTime": {
     "end_time": "2019-04-20T20:02:16.501000Z",
     "start_time": "2019-04-20T20:02:16.480000Z"
    }
   },
   "outputs": [],
   "source": [
    "def wiki_analysis(gwiki=None):\n",
    "    if gwiki is None:\n",
    "        gwiki = snap.LoadEdgeList(snap.PNGraph, \"wiki-Vote.txt\", 0, 1)\n",
    "    print(\"n nodes = \", gwiki.GetNodes()) \n",
    "    n_self_edges = 0\n",
    "    n_zero_out_deg = 0\n",
    "    n_zero_in_deg = 0\n",
    "    n_large_out_deg = 0\n",
    "    n_small_in_deg = 0\n",
    "    for node in gwiki.Nodes():\n",
    "        if gwiki.IsEdge(node.GetId(), node.GetId()):\n",
    "            n_self_edges += 1\n",
    "        if node.GetOutDeg() == 0:\n",
    "            n_zero_out_deg += 1\n",
    "        if node.GetInDeg() == 0:\n",
    "            n_zero_in_deg += 1\n",
    "        if node.GetOutDeg() > 10:\n",
    "            n_large_out_deg += 1\n",
    "        if node.GetInDeg() < 10:\n",
    "            n_small_in_deg += 1\n",
    "    print(\"n self edges = \", n_self_edges)\n",
    "    print(\"n 0 out = \", n_zero_out_deg)\n",
    "    print(\"n 0 in = \", n_zero_in_deg)\n",
    "    print(\"n large out = \", n_large_out_deg)\n",
    "    print(\"n small in = \", n_small_in_deg)\n",
    "    n_directed = 0\n",
    "    n_undirected = 0\n",
    "    n_reciprocated = 0\n",
    "    for edge in gwiki.Edges():\n",
    "        if edge.GetSrcNId() != edge.GetDstNId():\n",
    "            n_directed += 1\n",
    "            if gwiki.IsEdge(edge.GetDstNId(), edge.GetSrcNId()): #test whether the other direction is an edge.\n",
    "                n_reciprocated += 0.5\n",
    "                n_undirected += 0.5\n",
    "            else: \n",
    "                n_undirected += 1\n",
    "    print(\"n directed = \", n_directed)\n",
    "    print(\"n undirected = \", n_undirected)\n",
    "    print(\"n recip = \", n_reciprocated)\n",
    "    print \"\""
   ]
  },
  {
   "cell_type": "code",
   "execution_count": 5,
   "metadata": {
    "ExecuteTime": {
     "end_time": "2019-04-20T20:02:21.588000Z",
     "start_time": "2019-04-20T20:02:19.081000Z"
    }
   },
   "outputs": [
    {
     "name": "stdout",
     "output_type": "stream",
     "text": [
      "Num connected comp =  10143\n",
      "Num edges in largest =  322486\n",
      "Num nodes in largest =  131188\n",
      "largest page rank score nodes =  992484  (score =  0.0139805404122\n",
      "largest page rank score nodes =  135152  (score =  0.0100055388957\n",
      "largest page rank score nodes =  22656  (score =  0.00710353269313\n",
      "largest hub score nodes =  892029  (score =  0.0733638037339\n",
      "largest hub score nodes =  1194415  (score =  0.0595507441879\n",
      "largest hub score nodes =  359862  (score =  0.0568756458807\n",
      "largest auth score nodes =  22656  (score =  0.604723973041\n",
      "largest auth score nodes =  157882  (score =  0.298699348873\n",
      "largest auth score nodes =  571407  (score =  0.283907193414\n"
     ]
    }
   ],
   "source": [
    "stackoverflow()"
   ]
  },
  {
   "cell_type": "code",
   "execution_count": 10,
   "metadata": {
    "ExecuteTime": {
     "end_time": "2019-04-20T20:06:54.488000Z",
     "start_time": "2019-04-20T20:06:54.248000Z"
    }
   },
   "outputs": [
    {
     "name": "stdout",
     "output_type": "stream",
     "text": [
      "[-1.28106471  3.1324547 ]\n",
      "\n"
     ]
    }
   ],
   "source": [
    "make_plots()"
   ]
  },
  {
   "cell_type": "code",
   "execution_count": 11,
   "metadata": {
    "ExecuteTime": {
     "end_time": "2019-04-20T20:17:46.628000Z",
     "start_time": "2019-04-20T20:17:46.359000Z"
    }
   },
   "outputs": [
    {
     "name": "stdout",
     "output_type": "stream",
     "text": [
      "('n nodes = ', 3)\n",
      "('n self edges = ', 1)\n",
      "('n 0 out = ', 1)\n",
      "('n 0 in = ', 0)\n",
      "('n large out = ', 0)\n",
      "('n small in = ', 3)\n",
      "('n directed = ', 3)\n",
      "('n undirected = ', 2.0)\n",
      "('n recip = ', 1.0)\n",
      "\n",
      "('n nodes = ', 7115)\n",
      "('n self edges = ', 0)\n",
      "('n 0 out = ', 1005)\n",
      "('n 0 in = ', 4734)\n",
      "('n large out = ', 1612)\n",
      "('n small in = ', 5165)\n",
      "('n directed = ', 103689)\n",
      "('n undirected = ', 100762.0)\n",
      "('n recip = ', 2927.0)\n",
      "\n"
     ]
    }
   ],
   "source": [
    "# TODO fix undirected count\n",
    "gtest = snap.TNGraph.New()\n",
    "gtest.AddNode(1)\n",
    "gtest.AddNode(2)\n",
    "gtest.AddNode(3)\n",
    "gtest.AddEdge(1,2)\n",
    "gtest.AddEdge(2,1)\n",
    "gtest.AddEdge(1,3)\n",
    "gtest.AddEdge(1,1)\n",
    "wiki_analysis(gwiki=gtest)\n",
    "\n",
    "wiki_analysis()"
   ]
  },
  {
   "cell_type": "code",
   "execution_count": null,
   "metadata": {},
   "outputs": [],
   "source": []
  }
 ],
 "metadata": {
  "kernelspec": {
   "display_name": "Python 2",
   "language": "python",
   "name": "python2"
  },
  "language_info": {
   "codemirror_mode": {
    "name": "ipython",
    "version": 2
   },
   "file_extension": ".py",
   "mimetype": "text/x-python",
   "name": "python",
   "nbconvert_exporter": "python",
   "pygments_lexer": "ipython2",
   "version": "2.7.16"
  },
  "varInspector": {
   "cols": {
    "lenName": 16,
    "lenType": 16,
    "lenVar": 40
   },
   "kernels_config": {
    "python": {
     "delete_cmd_postfix": "",
     "delete_cmd_prefix": "del ",
     "library": "var_list.py",
     "varRefreshCmd": "print(var_dic_list())"
    },
    "r": {
     "delete_cmd_postfix": ") ",
     "delete_cmd_prefix": "rm(",
     "library": "var_list.r",
     "varRefreshCmd": "cat(var_dic_list()) "
    }
   },
   "types_to_exclude": [
    "module",
    "function",
    "builtin_function_or_method",
    "instance",
    "_Feature"
   ],
   "window_display": true
  }
 },
 "nbformat": 4,
 "nbformat_minor": 2
}
