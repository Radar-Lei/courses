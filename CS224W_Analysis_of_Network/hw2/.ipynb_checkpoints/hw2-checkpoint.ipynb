{
 "cells": [
  {
   "cell_type": "code",
   "execution_count": 1,
   "metadata": {
    "ExecuteTime": {
     "end_time": "2019-04-26T04:43:40.451000Z",
     "start_time": "2019-04-26T04:43:39.778000Z"
    }
   },
   "outputs": [],
   "source": [
    "import snap\n",
    "import numpy as np\n",
    "import matplotlib\n",
    "matplotlib.use('agg')\n",
    "import matplotlib.pyplot as plt\n",
    "import networkx as nx"
   ]
  },
  {
   "cell_type": "code",
   "execution_count": 2,
   "metadata": {
    "ExecuteTime": {
     "end_time": "2019-04-26T04:43:41.835000Z",
     "start_time": "2019-04-26T04:43:41.774000Z"
    }
   },
   "outputs": [],
   "source": [
    "def load_graph(q):\n",
    "    '''\n",
    "    Helper function to load graphs.\n",
    "    Wse \"epinions\" for Epinions graph and \"email\" for Email graph.\n",
    "    Check that the respective .txt files are in the same folder as this script;\n",
    "    if not, change the paths below as required.\n",
    "    '''    \n",
    "    if q == 1:\n",
    "        G = snap.TUNGraph.Load(snap.TFIn('Q1/hw2-q1.graph'))\n",
    "    elif q == 3:\n",
    "        G = snap.TNGraph.Load(snap.TFIn('Q3/USpowergrid_n4941.txt'))\n",
    "    return G\n",
    "\n",
    "def get_neighbors(graph, nodeId):\n",
    "    n = set([])\n",
    "    for i in range(graph.GetNI(nodeId).GetDeg()):\n",
    "        nid = graph.GetNI(nodeId).GetNbrNId(i)\n",
    "        n.add(nid)\n",
    "    return n\n",
    "\n",
    "def sim(x, y):\n",
    "    if np.linalg.norm(x) == 0 or np.linalg.norm(y) == 0:\n",
    "        return 0\n",
    "    return np.dot(x, y) / (np.linalg.norm(x) * np.linalg.norm(y))\n",
    "\n",
    "def compute_topk_feature_sim(features, node=9, k=5):\n",
    "    all_nodes = []\n",
    "    all_sims = []\n",
    "    most_similar_nodes = []\n",
    "    similarity = []\n",
    "    for key in features.keys():\n",
    "        if key == node:\n",
    "            continue\n",
    "        score = sim(features[node], features[key])\n",
    "        all_nodes.append(key)\n",
    "        all_sims.append(score)\n",
    "        if len(similarity) < k:\n",
    "            similarity.append(score)\n",
    "            most_similar_nodes.append(key)\n",
    "        else:\n",
    "            if score > min(similarity):\n",
    "                ind = np.argmin(similarity)\n",
    "                similarity[ind] = score\n",
    "                most_similar_nodes[ind] = key\n",
    "    similarity = np.array(similarity)\n",
    "    most_similar_nodes = np.array(most_similar_nodes)\n",
    "    sorted_ind = np.flip(np.argsort(similarity))\n",
    "    similarity = similarity[sorted_ind]\n",
    "    most_similar_nodes = most_similar_nodes[sorted_ind]\n",
    "    print 'Finding most similar nodes to {}'.format(node) \n",
    "    print most_similar_nodes\n",
    "    print similarity\n",
    "    return all_nodes, all_sims\n",
    "\n",
    "def collect_features(graph):\n",
    "    print '\\nCollecting features'\n",
    "    features = {} #create a dict to store feature for all nodes\n",
    "    for node in graph.Nodes():\n",
    "        deg = node.GetDeg()\n",
    "        in_edges = set([]) # compute IN and OUT EDGEs for the egonet of node\n",
    "        out_edges = set([])\n",
    "        neighbors = get_neighbors(graph, node.GetId())\n",
    "        if node.GetId() == 9:\n",
    "            print neighbors\n",
    "        egonet = neighbors\n",
    "        egonet.add(node.GetId())\n",
    "        for i in neighbors:\n",
    "            for j in get_neighbors(graph, i):\n",
    "                if j in egonet and ((i, j) not in in_edges and (j, i) not in in_edges): #undirected graph\n",
    "                    in_edges.add((i, j))\n",
    "                if j not in egonet and ((i, j) not in out_edges and (j, i) not in out_edges):\n",
    "                    out_edges.add((i, j))\n",
    "        features[node.GetId()] = np.array([deg, len(in_edges), len(out_edges)])\n",
    "    print 'Features of 9'\n",
    "    print features[9]\n",
    "    \n",
    "    compute_topk_feature_sim(features) #compute top k similar node based on neighborhood feature similarity\n",
    "\n",
    "    return features\n"
   ]
  },
  {
   "cell_type": "code",
   "execution_count": 5,
   "metadata": {
    "ExecuteTime": {
     "end_time": "2019-04-26T04:45:11.045000Z",
     "start_time": "2019-04-26T04:45:10.939000Z"
    }
   },
   "outputs": [
    {
     "name": "stdout",
     "output_type": "stream",
     "text": [
      "\n",
      "Collecting features\n",
      "set([7, 10, 11, 1424, 1425, 1532])\n",
      "Features of 9\n",
      "[ 6 10  1]\n",
      "Finding most similar nodes to 9\n",
      "[ 415  288  286 1336 1054]\n",
      "[0.99961575 0.99634368 0.99634368 0.99611824 0.99611824]\n"
     ]
    }
   ],
   "source": [
    "#q1_1\n",
    "graph = load_graph(1)\n",
    "features = collect_features(graph)"
   ]
  },
  {
   "cell_type": "code",
   "execution_count": 6,
   "metadata": {
    "ExecuteTime": {
     "end_time": "2019-04-26T04:45:33.859000Z",
     "start_time": "2019-04-26T04:45:33.424000Z"
    },
    "scrolled": true
   },
   "outputs": [
    {
     "name": "stdout",
     "output_type": "stream",
     "text": [
      "Finding most similar nodes to 9\n",
      "[973 537 415 496  25]\n",
      "[0.99598488 0.994613   0.99372844 0.99228397 0.99224132]\n",
      "[0.         0.05242026 0.10484051 0.15726077 0.20968103 0.26210128\n",
      " 0.31452154 0.3669418  0.41936206 0.47178231 0.52420257 0.57662283\n",
      " 0.62904308 0.68146334 0.7338836  0.78630385 0.83872411 0.89114437\n",
      " 0.94356463 0.99598488]\n",
      "\n",
      "\n",
      "19\n",
      "0\n",
      "[0. 0. 0. 0. 0. 0. 0. 0. 0. 0. 0. 0. 0. 0. 0. 0. 0. 0. 0. 0. 0. 0. 0. 0.\n",
      " 0. 0. 0.]\n",
      "0\n",
      "\n",
      "\n",
      "7\n",
      "0.9829307104353655\n",
      "[ 4.          7.          3.         13.         23.         12.\n",
      "  3.25        5.75        3.         13.         23.         12.\n",
      " 45.         79.         43.         15.16666667 26.66666667 12.33333333\n",
      "  3.25        5.75        3.         11.25       19.75       10.75\n",
      "  3.79166667  6.66666667  3.08333333]\n",
      "4\n",
      "\n",
      "\n",
      "46\n",
      "0.7061169887181303\n",
      "[  12.           20.           41.           69.          128.\n",
      "  204.            5.75         10.66666667   17.           69.\n",
      "  128.          204.          391.          763.         1601.\n",
      "   83.70555556  158.24814815  266.41666667    5.75         10.66666667\n",
      "   17.           32.58333333   63.58333333  133.41666667    6.97546296\n",
      "   13.18734568   22.20138889]\n",
      "12\n"
     ]
    }
   ],
   "source": [
    "def plot_hist(x, bins):\n",
    "    plt.hist(x, bins=bins)\n",
    "    plt.savefig('q1_hist.png')\n",
    "    plt.close()\n",
    "\n",
    "def collect_recursive_features(graph, features, k=2):\n",
    "    for i in range(k):\n",
    "        n_starting_features = len(features[graph.GetRndNId()]) #check feature vector length, 3 here.\n",
    "        for node in graph.Nodes():\n",
    "            s = np.zeros(n_starting_features) # create empty vector size (1,3)\n",
    "            nbrs = get_neighbors(graph, node.GetId())\n",
    "            for n in nbrs:\n",
    "                s += features[n][:n_starting_features]\n",
    "            new_features = np.zeros(3 * len(s))\n",
    "            new_features[:len(s)] = features[node.GetId()] #copy old features\n",
    "            if len(nbrs) > 0:\n",
    "                new_features[len(s):2*len(s)] = s\n",
    "                new_features[2*len(s):] = s / len(nbrs)\n",
    "            features[node.GetId()] = new_features\n",
    "    \n",
    "    all_nodes, all_sims = compute_topk_feature_sim(features)\n",
    "    buckets = np.linspace(np.min(all_sims), np.max(all_sims), num=20) #create 20 bins for histogram plotting\n",
    "    print buckets\n",
    "    bucket_ind = np.digitize(all_sims, buckets)\n",
    "    plot_hist(all_sims, buckets)\n",
    "    \n",
    "\n",
    "    ind = np.argwhere(bucket_ind == 1)[0][0]\n",
    "    print ''\n",
    "    print ''\n",
    "    print all_nodes[ind]\n",
    "    print all_sims[ind]\n",
    "    print features[all_nodes[ind]]\n",
    "    print len(get_neighbors(graph, all_nodes[ind]))\n",
    "\n",
    "    ind = np.argwhere(bucket_ind == 19)[0][0]\n",
    "    print ''\n",
    "    print ''\n",
    "    print all_nodes[ind]\n",
    "    print all_sims[ind]\n",
    "    print features[all_nodes[ind]]\n",
    "    print len(get_neighbors(graph, all_nodes[ind])) \n",
    "    vis_subgraph(graph, all_nodes[ind])\n",
    "\n",
    "    ind = np.argwhere(bucket_ind == 14)[0][0]\n",
    "    print ''\n",
    "    print ''\n",
    "    print all_nodes[ind]\n",
    "    print all_sims[ind]\n",
    "    print features[all_nodes[ind]]\n",
    "    print len(get_neighbors(graph, all_nodes[ind]))\n",
    "    vis_subgraph(graph, all_nodes[ind])\n",
    "\n",
    "\n",
    "\n",
    "def vis_subgraph(graph, node):\n",
    "    nodeSet = set([])\n",
    "    nodeSet.add(node)\n",
    "    for n in get_neighbors(graph, node):\n",
    "        nodeSet.add(n)\n",
    "        for n2 in get_neighbors(graph, n):\n",
    "            nodeSet.add(n2)\n",
    "            \n",
    "    nodeV = snap.TIntV()\n",
    "    for item in nodeSet:\n",
    "        nodeV.Add(item)\n",
    "    sg = snap.ConvertSubGraph(snap.PUNGraph, graph, nodeV, False) #create subgraph\n",
    "    \n",
    "    G1 = nx.Graph()\n",
    "    edgelist = []\n",
    "    for item in sg.Edges():\n",
    "        edgelist.append((item.GetSrcNId(),item.GetDstNId()))\n",
    "    G1.add_edges_from(edgelist)\n",
    "    nx.draw_networkx(G1,font_size=8)\n",
    "    plt.axis('off')\n",
    "    plt.savefig('subgraph{}.pdf'.format(node))\n",
    "    plt.close()\n",
    "    \n",
    "    #snap.DrawGViz(sg, snap.gvlSfdp, 'subgraph{}.png'.format(node), \"Subgraph around node {}\".format(node), True) \n",
    "\n",
    "collect_recursive_features(graph, features)"
   ]
  },
  {
   "cell_type": "code",
   "execution_count": null,
   "metadata": {
    "ExecuteTime": {
     "end_time": "2019-04-26T04:11:43.506000Z",
     "start_time": "2019-04-26T04:11:43.495000Z"
    }
   },
   "outputs": [],
   "source": [
    "node = 10\n",
    "nodeSet = set([])\n",
    "nodeSet.add(node)\n",
    "for n in get_neighbors(graph, node):\n",
    "    nodeSet.add(n)\n",
    "    for n2 in get_neighbors(graph, n):\n",
    "        nodeSet.add(n2)\n",
    "\n",
    "nodeV = snap.TIntV()\n",
    "for item in nodeSet:\n",
    "    nodeV.Add(item)\n",
    "sg = snap.ConvertSubGraph(snap.PUNGraph, graph, nodeV, False)"
   ]
  },
  {
   "cell_type": "code",
   "execution_count": null,
   "metadata": {
    "ExecuteTime": {
     "end_time": "2019-04-26T03:46:02.850000Z",
     "start_time": "2019-04-26T03:46:02.836000Z"
    }
   },
   "outputs": [],
   "source": [
    "sg.Nodes"
   ]
  },
  {
   "cell_type": "code",
   "execution_count": null,
   "metadata": {
    "ExecuteTime": {
     "end_time": "2019-04-26T03:44:37.378000Z",
     "start_time": "2019-04-26T03:44:37.369000Z"
    }
   },
   "outputs": [],
   "source": [
    "for item in nodeV:\n",
    "    print item"
   ]
  },
  {
   "cell_type": "code",
   "execution_count": null,
   "metadata": {
    "ExecuteTime": {
     "end_time": "2019-04-26T03:40:59.158000Z",
     "start_time": "2019-04-26T03:40:59.152000Z"
    }
   },
   "outputs": [],
   "source": [
    "print nodeSet"
   ]
  },
  {
   "cell_type": "code",
   "execution_count": null,
   "metadata": {
    "ExecuteTime": {
     "end_time": "2019-04-26T04:12:00.292000Z",
     "start_time": "2019-04-26T04:11:59.906000Z"
    }
   },
   "outputs": [],
   "source": [
    "import networkx as nx"
   ]
  },
  {
   "cell_type": "code",
   "execution_count": null,
   "metadata": {
    "ExecuteTime": {
     "end_time": "2019-04-26T04:12:02.965000Z",
     "start_time": "2019-04-26T04:12:02.809000Z"
    }
   },
   "outputs": [],
   "source": [
    "G1 = nx.Graph()\n",
    "edgelist = []\n",
    "for item in sg.Edges():\n",
    "    edgelist.append((item.GetSrcNId(),item.GetDstNId()))\n",
    "G1.add_edges_from(edgelist)\n",
    "nx.draw_networkx(G1)\n",
    "plt.show()\n",
    "plt.savefig('foo.pdf')"
   ]
  }
 ],
 "metadata": {
  "kernelspec": {
   "display_name": "Python 2",
   "language": "python",
   "name": "python2"
  },
  "language_info": {
   "codemirror_mode": {
    "name": "ipython",
    "version": 2
   },
   "file_extension": ".py",
   "mimetype": "text/x-python",
   "name": "python",
   "nbconvert_exporter": "python",
   "pygments_lexer": "ipython2",
   "version": "2.7.16"
  },
  "varInspector": {
   "cols": {
    "lenName": 16,
    "lenType": 16,
    "lenVar": 40
   },
   "kernels_config": {
    "python": {
     "delete_cmd_postfix": "",
     "delete_cmd_prefix": "del ",
     "library": "var_list.py",
     "varRefreshCmd": "print(var_dic_list())"
    },
    "r": {
     "delete_cmd_postfix": ") ",
     "delete_cmd_prefix": "rm(",
     "library": "var_list.r",
     "varRefreshCmd": "cat(var_dic_list()) "
    }
   },
   "position": {
    "height": "200.4px",
    "left": "1131px",
    "right": "20px",
    "top": "162px",
    "width": "366.4px"
   },
   "types_to_exclude": [
    "module",
    "function",
    "builtin_function_or_method",
    "instance",
    "_Feature"
   ],
   "window_display": true
  }
 },
 "nbformat": 4,
 "nbformat_minor": 2
}
