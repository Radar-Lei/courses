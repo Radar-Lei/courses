{
 "cells": [
  {
   "cell_type": "code",
   "execution_count": 1,
   "metadata": {
    "ExecuteTime": {
     "end_time": "2019-04-26T04:53:00.977000Z",
     "start_time": "2019-04-26T04:53:00.308000Z"
    },
    "collapsed": true
   },
   "outputs": [],
   "source": [
    "import snap\n",
    "import numpy as np\n",
    "import matplotlib\n",
    "matplotlib.use('agg')\n",
    "import matplotlib.pyplot as plt\n",
    "import networkx as nx"
   ]
  },
  {
   "cell_type": "code",
   "execution_count": 2,
   "metadata": {
    "ExecuteTime": {
     "end_time": "2019-04-26T04:53:02.348000Z",
     "start_time": "2019-04-26T04:53:02.289000Z"
    },
    "collapsed": true
   },
   "outputs": [],
   "source": [
    "def load_graph(q):\n",
    "    '''\n",
    "    Helper function to load graphs.\n",
    "    Wse \"epinions\" for Epinions graph and \"email\" for Email graph.\n",
    "    Check that the respective .txt files are in the same folder as this script;\n",
    "    if not, change the paths below as required.\n",
    "    '''    \n",
    "    if q == 1:\n",
    "        G = snap.TUNGraph.Load(snap.TFIn('Q1/hw2-q1.graph'))\n",
    "    elif q == 3:\n",
    "        G = snap.TNGraph.Load(snap.TFIn('Q3/USpowergrid_n4941.txt'))\n",
    "    return G\n",
    "\n",
    "def get_neighbors(graph, nodeId):\n",
    "    n = set([])\n",
    "    for i in range(graph.GetNI(nodeId).GetDeg()):\n",
    "        nid = graph.GetNI(nodeId).GetNbrNId(i)\n",
    "        n.add(nid)\n",
    "    return n\n",
    "\n",
    "def sim(x, y):\n",
    "    if np.linalg.norm(x) == 0 or np.linalg.norm(y) == 0:\n",
    "        return 0\n",
    "    return np.dot(x, y) / (np.linalg.norm(x) * np.linalg.norm(y))\n",
    "\n",
    "def compute_topk_feature_sim(features, node=9, k=5):\n",
    "    all_nodes = []\n",
    "    all_sims = []\n",
    "    most_similar_nodes = []\n",
    "    similarity = []\n",
    "    for key in features.keys():\n",
    "        if key == node:\n",
    "            continue\n",
    "        score = sim(features[node], features[key])\n",
    "        all_nodes.append(key)\n",
    "        all_sims.append(score)\n",
    "        if len(similarity) < k:\n",
    "            similarity.append(score)\n",
    "            most_similar_nodes.append(key)\n",
    "        else:\n",
    "            if score > min(similarity):\n",
    "                ind = np.argmin(similarity)\n",
    "                similarity[ind] = score\n",
    "                most_similar_nodes[ind] = key\n",
    "    similarity = np.array(similarity)\n",
    "    most_similar_nodes = np.array(most_similar_nodes)\n",
    "    sorted_ind = np.flip(np.argsort(similarity))\n",
    "    similarity = similarity[sorted_ind]\n",
    "    most_similar_nodes = most_similar_nodes[sorted_ind]\n",
    "    print 'Finding most similar nodes to {}'.format(node) \n",
    "    print most_similar_nodes\n",
    "    print similarity\n",
    "    return all_nodes, all_sims\n",
    "\n",
    "def collect_features(graph):\n",
    "    print '\\nCollecting features'\n",
    "    features = {} #create a dict to store feature for all nodes\n",
    "    for node in graph.Nodes():\n",
    "        deg = node.GetDeg()\n",
    "        in_edges = set([]) # compute IN and OUT EDGEs for the egonet of node\n",
    "        out_edges = set([])\n",
    "        neighbors = get_neighbors(graph, node.GetId())\n",
    "        if node.GetId() == 9:\n",
    "            print neighbors\n",
    "        egonet = neighbors\n",
    "        egonet.add(node.GetId())\n",
    "        for i in neighbors:\n",
    "            for j in get_neighbors(graph, i):\n",
    "                if j in egonet and ((i, j) not in in_edges and (j, i) not in in_edges): #undirected graph\n",
    "                    in_edges.add((i, j))\n",
    "                if j not in egonet and ((i, j) not in out_edges and (j, i) not in out_edges):\n",
    "                    out_edges.add((i, j))\n",
    "        features[node.GetId()] = np.array([deg, len(in_edges), len(out_edges)])\n",
    "    print 'Features of 9'\n",
    "    print features[9]\n",
    "    \n",
    "    compute_topk_feature_sim(features) #compute top k similar node based on neighborhood feature similarity\n",
    "\n",
    "    return features\n"
   ]
  },
  {
   "cell_type": "code",
   "execution_count": 3,
   "metadata": {
    "ExecuteTime": {
     "end_time": "2019-04-26T04:53:05.288000Z",
     "start_time": "2019-04-26T04:53:05.182000Z"
    }
   },
   "outputs": [
    {
     "name": "stdout",
     "output_type": "stream",
     "text": [
      "\n",
      "Collecting features\n",
      "set([7, 10, 11, 1424, 1425, 1532])\n",
      "Features of 9\n",
      "[ 6 10  1]\n",
      "Finding most similar nodes to 9\n",
      "[ 415  288  286 1336 1054]\n",
      "[0.99961575 0.99634368 0.99634368 0.99611824 0.99611824]\n"
     ]
    }
   ],
   "source": [
    "#q1_1\n",
    "graph = load_graph(1)\n",
    "features = collect_features(graph)"
   ]
  },
  {
   "cell_type": "code",
   "execution_count": 4,
   "metadata": {
    "ExecuteTime": {
     "end_time": "2019-04-26T04:53:10.193000Z",
     "start_time": "2019-04-26T04:53:09.661000Z"
    },
    "scrolled": true
   },
   "outputs": [
    {
     "name": "stdout",
     "output_type": "stream",
     "text": [
      "Finding most similar nodes to 9\n",
      "[973 537 415 496  25]\n",
      "[0.99598488 0.994613   0.99372844 0.99228397 0.99224132]\n",
      "[0.         0.05242026 0.10484051 0.15726077 0.20968103 0.26210128\n",
      " 0.31452154 0.3669418  0.41936206 0.47178231 0.52420257 0.57662283\n",
      " 0.62904308 0.68146334 0.7338836  0.78630385 0.83872411 0.89114437\n",
      " 0.94356463 0.99598488]\n",
      "\n",
      "\n",
      "19\n",
      "0\n",
      "[0. 0. 0. 0. 0. 0. 0. 0. 0. 0. 0. 0. 0. 0. 0. 0. 0. 0. 0. 0. 0. 0. 0. 0.\n",
      " 0. 0. 0.]\n",
      "0\n",
      "\n",
      "\n",
      "201\n",
      "0.967317658528122\n",
      "[  4.       8.       4.      16.      31.      12.       4.       7.75\n",
      "   3.      16.      31.      12.      58.     111.      64.      14.8\n",
      "  28.55    15.8      4.       7.75     3.      14.5     27.75    16.\n",
      "   3.7      7.1375   3.95  ]\n",
      "4\n",
      "\n",
      "\n",
      "46\n",
      "0.7061169887181303\n",
      "[  12.           20.           41.           69.          128.\n",
      "  204.            5.75         10.66666667   17.           69.\n",
      "  128.          204.          391.          763.         1601.\n",
      "   83.70555556  158.24814815  266.41666667    5.75         10.66666667\n",
      "   17.           32.58333333   63.58333333  133.41666667    6.97546296\n",
      "   13.18734568   22.20138889]\n",
      "12\n"
     ]
    }
   ],
   "source": [
    "def plot_hist(x, bins):\n",
    "    plt.hist(x, bins=bins)\n",
    "    plt.savefig('q1_hist.png')\n",
    "    plt.close()\n",
    "\n",
    "def collect_recursive_features(graph, features, k=2):\n",
    "    for i in range(k):\n",
    "        n_starting_features = len(features[graph.GetRndNId()]) #check feature vector length, 3 here.\n",
    "        for node in graph.Nodes():\n",
    "            s = np.zeros(n_starting_features) # create empty vector size (1,3)\n",
    "            nbrs = get_neighbors(graph, node.GetId())\n",
    "            for n in nbrs:\n",
    "                s += features[n][:n_starting_features]\n",
    "            new_features = np.zeros(3 * len(s))\n",
    "            new_features[:len(s)] = features[node.GetId()] #copy old features\n",
    "            if len(nbrs) > 0:\n",
    "                new_features[len(s):2*len(s)] = s\n",
    "                new_features[2*len(s):] = s / len(nbrs)\n",
    "            features[node.GetId()] = new_features\n",
    "    \n",
    "    all_nodes, all_sims = compute_topk_feature_sim(features)\n",
    "    buckets = np.linspace(np.min(all_sims), np.max(all_sims), num=20) #create 20 bins for histogram plotting\n",
    "    print buckets\n",
    "    bucket_ind = np.digitize(all_sims, buckets)\n",
    "    plot_hist(all_sims, buckets)\n",
    "    \n",
    "    ind = np.argwhere(bucket_ind == 1)[0][0]\n",
    "    print ''\n",
    "    print ''\n",
    "    print all_nodes[ind]\n",
    "    print all_sims[ind]\n",
    "    print features[all_nodes[ind]]\n",
    "    print len(get_neighbors(graph, all_nodes[ind]))\n",
    "    vis_subgraph(graph, all_nodes[ind])\n",
    "\n",
    "    ind = np.argwhere(bucket_ind == 19)[20][0]\n",
    "    print ''\n",
    "    print ''\n",
    "    print all_nodes[ind]\n",
    "    print all_sims[ind]\n",
    "    print features[all_nodes[ind]]\n",
    "    print len(get_neighbors(graph, all_nodes[ind])) \n",
    "    vis_subgraph(graph, all_nodes[ind])\n",
    "\n",
    "    ind = np.argwhere(bucket_ind == 14)[0][0]\n",
    "    print ''\n",
    "    print ''\n",
    "    print all_nodes[ind]\n",
    "    print all_sims[ind]\n",
    "    print features[all_nodes[ind]]\n",
    "    print len(get_neighbors(graph, all_nodes[ind]))\n",
    "    vis_subgraph(graph, all_nodes[ind])\n",
    "\n",
    "\n",
    "\n",
    "def vis_subgraph(graph, node):\n",
    "    nodeSet = set([])\n",
    "    nodeSet.add(node)\n",
    "    for n in get_neighbors(graph, node):\n",
    "        nodeSet.add(n)\n",
    "        for n2 in get_neighbors(graph, n):\n",
    "            nodeSet.add(n2)\n",
    "            \n",
    "    nodeV = snap.TIntV()\n",
    "    for item in nodeSet:\n",
    "        nodeV.Add(item)\n",
    "    sg = snap.ConvertSubGraph(snap.PUNGraph, graph, nodeV, False) #create subgraph\n",
    "    \n",
    "    G1 = nx.Graph()\n",
    "    edgelist = []\n",
    "    for item in sg.Edges():\n",
    "        edgelist.append((item.GetSrcNId(),item.GetDstNId()))\n",
    "    G1.add_edges_from(edgelist)\n",
    "    nx.draw_networkx(G1,font_size=8)\n",
    "    plt.axis('off')\n",
    "    plt.savefig('subgraph{}.pdf'.format(node))\n",
    "    plt.close()\n",
    "    \n",
    "    #snap.DrawGViz(sg, snap.gvlSfdp, 'subgraph{}.png'.format(node), \"Subgraph around node {}\".format(node), True) \n",
    "\n",
    "collect_recursive_features(graph, features)"
   ]
  },
  {
   "cell_type": "code",
   "execution_count": null,
   "metadata": {
    "ExecuteTime": {
     "end_time": "2019-04-26T04:11:43.506000Z",
     "start_time": "2019-04-26T04:11:43.495000Z"
    },
    "collapsed": true
   },
   "outputs": [],
   "source": [
    "node = 10\n",
    "nodeSet = set([])\n",
    "nodeSet.add(node)\n",
    "for n in get_neighbors(graph, node):\n",
    "    nodeSet.add(n)\n",
    "    for n2 in get_neighbors(graph, n):\n",
    "        nodeSet.add(n2)\n",
    "\n",
    "nodeV = snap.TIntV()\n",
    "for item in nodeSet:\n",
    "    nodeV.Add(item)\n",
    "sg = snap.ConvertSubGraph(snap.PUNGraph, graph, nodeV, False)"
   ]
  },
  {
   "cell_type": "code",
   "execution_count": null,
   "metadata": {
    "ExecuteTime": {
     "end_time": "2019-04-26T03:46:02.850000Z",
     "start_time": "2019-04-26T03:46:02.836000Z"
    },
    "collapsed": true
   },
   "outputs": [],
   "source": [
    "sg.Nodes"
   ]
  },
  {
   "cell_type": "code",
   "execution_count": null,
   "metadata": {
    "ExecuteTime": {
     "end_time": "2019-04-26T03:44:37.378000Z",
     "start_time": "2019-04-26T03:44:37.369000Z"
    },
    "collapsed": true
   },
   "outputs": [],
   "source": [
    "for item in nodeV:\n",
    "    print item"
   ]
  },
  {
   "cell_type": "code",
   "execution_count": null,
   "metadata": {
    "ExecuteTime": {
     "end_time": "2019-04-26T03:40:59.158000Z",
     "start_time": "2019-04-26T03:40:59.152000Z"
    },
    "collapsed": true
   },
   "outputs": [],
   "source": [
    "print nodeSet"
   ]
  },
  {
   "cell_type": "code",
   "execution_count": null,
   "metadata": {
    "ExecuteTime": {
     "end_time": "2019-04-26T04:12:00.292000Z",
     "start_time": "2019-04-26T04:11:59.906000Z"
    },
    "collapsed": true
   },
   "outputs": [],
   "source": [
    "import networkx as nx"
   ]
  },
  {
   "cell_type": "code",
   "execution_count": null,
   "metadata": {
    "ExecuteTime": {
     "end_time": "2019-04-26T04:12:02.965000Z",
     "start_time": "2019-04-26T04:12:02.809000Z"
    },
    "collapsed": true
   },
   "outputs": [],
   "source": [
    "G1 = nx.Graph()\n",
    "edgelist = []\n",
    "for item in sg.Edges():\n",
    "    edgelist.append((item.GetSrcNId(),item.GetDstNId()))\n",
    "G1.add_edges_from(edgelist)\n",
    "nx.draw_networkx(G1)\n",
    "plt.show()\n",
    "plt.savefig('foo.pdf')"
   ]
  },
  {
   "cell_type": "markdown",
   "metadata": {},
   "source": [
    "## Q3 The Configuration Model and Motif Detection"
   ]
  },
  {
   "cell_type": "code",
   "execution_count": 1,
   "metadata": {
    "ExecuteTime": {
     "end_time": "2019-05-19T20:52:35.356000Z",
     "start_time": "2019-05-19T20:52:34.670000Z"
    },
    "collapsed": true
   },
   "outputs": [],
   "source": [
    "import snap\n",
    "import numpy as np\n",
    "from itertools import permutations\n",
    "import matplotlib\n",
    "matplotlib.use('agg')\n",
    "from matplotlib import pyplot as plt\n",
    "%matplotlib inline"
   ]
  },
  {
   "cell_type": "markdown",
   "metadata": {},
   "source": [
    "### Q3.1 The Configuration Model"
   ]
  },
  {
   "cell_type": "code",
   "execution_count": 2,
   "metadata": {
    "ExecuteTime": {
     "end_time": "2019-05-19T20:52:36.842000Z",
     "start_time": "2019-05-19T20:52:36.769000Z"
    },
    "collapsed": true
   },
   "outputs": [],
   "source": [
    "def q3_1():\n",
    "    '''\n",
    "    Main q3 workflow. All of the work can be done in gen_config_model_rewire\n",
    "    but you may modify this function as needed.\n",
    "    '''\n",
    "    G = load_graph(\"grid\")\n",
    "    print 'Starting q3.1'\n",
    "    config_graph, clustering_coeffs = gen_config_model_rewire(G, 10000)\n",
    "    plot_q3_1(clustering_coeffs)\n",
    "\n",
    "def load_graph(name):\n",
    "    '''\n",
    "    Helper function to load graphs.\n",
    "    Check that the respective .txt files are in the same folder as this script;\n",
    "    if not, change the paths below as required.\n",
    "    '''\n",
    "    if name == \"email\":\n",
    "        G = snap.LoadEdgeList(snap.PNGraph, \"email-Eu-core.txt\", 0, 1)\n",
    "    elif name == 'grid':\n",
    "        G = snap.LoadEdgeList(snap.PNGraph, \"USpowergrid_n4941.txt\", 0, 1)\n",
    "    elif name == 'esu_test':\n",
    "        G = snap.LoadEdgeList(snap.PNGraph, \"esu_test.txt\", 0, 1)\n",
    "    else:\n",
    "        raise ValueError(\"Invalid graph: please use 'email' 'grid' or 'esu_test'.\")\n",
    "    return G\n",
    "\n",
    "def gen_config_model_rewire(graph, iterations=10000):\n",
    "    config_graph = graph\n",
    "    cfs = []\n",
    "    ##########################################################################\n",
    "    #TODO: Your code here\n",
    "    t = iterations\n",
    "    check = 100\n",
    "    edges = []\n",
    "    n = config_graph.GetNodes()# number of nodes\n",
    "    e = config_graph.GetEdges()# the number of edges\n",
    "    for edge in config_graph.Edges():\n",
    "        edges.append((edge.GetSrcNId(), edge.GetDstNId()))\n",
    "    np.random.shuffle(edges)\n",
    "    edges = set(edges)\n",
    "    i = 0\n",
    "    while i < t:\n",
    "        if i % 100 == 0:\n",
    "            # every 100 iterations we compute clustering coefficents.\n",
    "            # GetClustCf(Graph, SampleNodes=-1) Computes the average clustering coefficient \n",
    "            # as defined in Watts and Strogatz\n",
    "            cf = snap.GetClustCf(config_graph, 1000)         \n",
    "            cfs.append(cf)\n",
    "        # pop() : The pop() method returns an arbitrary (random) element from the set. \n",
    "        # Also, the set is updated and will not contain the element (which is returned to the left side of equation).\n",
    "        e1 = edges.pop()\n",
    "        e2 = edges.pop()\n",
    "        # if there is self-link put them back into the graph\n",
    "        if e1[0] == e1[1] or e2[0] == e2[1]:\n",
    "            edges.add(e1)\n",
    "            edges.add(e2)\n",
    "            continue\n",
    "        if np.random.rand() < 0.5:\n",
    "            u = e1[0]\n",
    "            v = e1[1]\n",
    "        else:\n",
    "            u = e1[1]\n",
    "            v = e1[0]\n",
    "        if np.random.rand() < 0.5:\n",
    "            w = e2[0]\n",
    "            x = e2[1]\n",
    "        else:\n",
    "            w = e2[1]\n",
    "            x = e2[0]\n",
    "        # check if link exists and no self-link\n",
    "        if not config_graph.IsEdge(u, w) and not config_graph.IsEdge(v, x) and u != w and v != x:\n",
    "            # dont need to delete e1 and e2 in edges since we used pop()function\n",
    "            edges.add((u, w))\n",
    "            edges.add((v, x))\n",
    "            # need to delete e1 and e2 in coufig_graph since we rewired them\n",
    "            config_graph.DelEdge(e1[0], e1[1])\n",
    "            config_graph.DelEdge(e2[0], e2[1]) \n",
    "            config_graph.AddEdge(u, w)\n",
    "            config_graph.AddEdge(v, x)\n",
    "            i += 1\n",
    "        else:\n",
    "            edges.add(e1)\n",
    "            edges.add(e2)\n",
    "            continue\n",
    "    \n",
    "    # check if the numbers of edges and nodes stay the same\n",
    "    assert(config_graph.GetNodes() == n)\n",
    "    assert(config_graph.GetEdges() == e)\n",
    "\n",
    "    ##########################################################################\n",
    "    return config_graph, cfs\n",
    "\n",
    "def plot_q3_1(clustering_coeffs):\n",
    "    '''\n",
    "    Helper plotting code for question 3.1 Feel free to modify as needed.\n",
    "    '''\n",
    "    plt.plot(np.linspace(0,10000,len(clustering_coeffs)), clustering_coeffs)\n",
    "    plt.xlabel('Iteration')\n",
    "    plt.ylabel('Average Clustering Coefficient')\n",
    "    plt.title('Random edge rewiring: Clustering Coefficient')\n",
    "    plt.savefig('q3_1.png', format='png')\n",
    "    plt.show()"
   ]
  },
  {
   "cell_type": "code",
   "execution_count": 3,
   "metadata": {
    "ExecuteTime": {
     "end_time": "2019-05-19T20:52:41.109000Z",
     "start_time": "2019-05-19T20:52:40.242000Z"
    },
    "scrolled": false
   },
   "outputs": [
    {
     "name": "stdout",
     "output_type": "stream",
     "text": [
      "Starting q3.1\n"
     ]
    },
    {
     "data": {
      "image/png": "[encoded data removed]",
      "text/plain": [
       "<Figure size 432x288 with 1 Axes>"
      ]
     },
     "metadata": {
      "needs_background": "light"
     },
     "output_type": "display_data"
    }
   ],
   "source": [
    "q3_1()"
   ]
  },
  {
   "cell_type": "markdown",
   "metadata": {},
   "source": [
    "### Q3.2 Exact Subgraph Enumration ESU"
   ]
  },
  {
   "cell_type": "code",
   "execution_count": 5,
   "metadata": {},
   "outputs": [
    {
     "name": "stderr",
     "output_type": "stream",
     "text": [
      "'subgraphs' is not recognized as an internal or external command,\n",
      "operable program or batch file.\n"
     ]
    }
   ],
   "source": [
    "!subgraphs/"
   ]
  },
  {
   "cell_type": "code",
   "execution_count": null,
   "metadata": {
    "collapsed": true
   },
   "outputs": [],
   "source": [
    "def q3_2(verbose=False):\n",
    "    '''\n",
    "    This is all you really need to do for q2! Just set verbose to True to\n",
    "    print the subgraphs and the reulting motif counts\n",
    "    '''\n",
    "    G = load_graph(\"esu_test\")\n",
    "    enumerate_subgraph(G, 3, verbose)\n",
    "    if verbose:\n",
    "        print(motif_counts)\n",
    "    G = snap.TNGraph.New()\n",
    "    G.AddNode(1)\n",
    "    G.AddNode(2)\n",
    "    G.AddNode(3)\n",
    "    G.AddEdge(2, 1)\n",
    "    G.AddEdge(2, 3)\n",
    "    enumerate_subgraph(G, 3, verbose)\n",
    "    if verbose:\n",
    "        print(motif_counts)\n",
    "    print 'Finished Q3.2'\n",
    "\n",
    "\n",
    "def enumerate_subgraph(G, k=3, verbose=False):\n",
    "    '''\n",
    "    This is the main function of the ESU algorithm.\n",
    "    Here, you should iterate over all nodes in the graph,\n",
    "    find their neighbors with ID greater than the current node\n",
    "    and issue the recursive call to extend_subgraph in each iteration\n",
    "\n",
    "    A good idea would be to print a progress report on the cycle over nodes,\n",
    "    So you get an idea of how long the algorithm needs to run\n",
    "    '''\n",
    "    global motif_counts\n",
    "    motif_counts = [0]*len(directed_3) # Reset the motif counts (Do not remove)\n",
    "    ##########################################################################\n",
    "\n",
    "    for node in G.Nodes():\n",
    "        nbrs = get_neighbors(G, node.GetId(), gnodeId=node.GetId())\n",
    "        print float(node.GetId()) / G.GetNodes(), \" % complete                              \\r\",\n",
    "        extend_subgraph(G, k, set([node.GetId()]), nbrs, node.GetId(), verbose=verbose)\n",
    "\n",
    "def load_3_subgraphs():\n",
    "    '''\n",
    "    Loads a list of all 13 directed 3-subgraphs.\n",
    "    The list is in the same order as the figure in the HW pdf, but it is\n",
    "    zero-indexed\n",
    "    '''\n",
    "    return [snap.LoadEdgeList(snap.PNGraph, \"subgraphs/{}.txt\".format(i), 0, 1) for i in range(13)]        \n",
    "        \n",
    "def get_neighbors(graph, nodeId, gnodeId=None):\n",
    "    n = set([])\n",
    "    # GetNI.GetDeg return the total node degree(in-degree and out-degree)\n",
    "    for i in range(graph.GetNI(nodeId).GetDeg()):\n",
    "        # get nodeId's i-th neighbor\n",
    "        # GetNI.GetNbrNId return all neighbor nodes(in-node and out-node)\n",
    "        nid = graph.GetNI(nodeId).GetNbrNId(i) \n",
    "        if gnodeId is None or (gnodeId is not None and nid > gnodeId): \n",
    "            n.add(nid)\n",
    "    return n\n",
    "\n",
    "def extend_subgraph(G, k, sg, v_ext, node_id, verbose=False):\n",
    "    '''\n",
    "    This is the recursive function in the ESU algorithm\n",
    "    The base case is already implemented and calls count_iso. You should not\n",
    "    need to modify this. sg stands for subgraph\n",
    "\n",
    "    Implement the recursive case.\n",
    "    '''\n",
    "    # Base case (you should not need to modify this):\n",
    "    if len(sg) is k:\n",
    "        count_iso(G, sg, verbose)\n",
    "        return\n",
    "    # Recursive step:\n",
    "    #######################################################################\n",
    "    while len(v_ext) > 0:\n",
    "        # randomly pop a neighbor from set v_ext\n",
    "        w = v_ext.pop()\n",
    "        vprime_ext = set(v_ext)\n",
    "        sg_nbrs = set([])\n",
    "        for nid in sg:\n",
    "            # set inplace union, sg_nbrs = sg_nbrs union get_neighbors\n",
    "            sg_nbrs |= get_neighbors(G, nid)\n",
    "        # iterate neighbor's neighbors;\n",
    "        for u in get_neighbors(G, w, gnodeId=node_id):\n",
    "            if u in sg or u in v_ext:\n",
    "                continue\n",
    "            # add neighbor's neighbors to vprime_ext for choosing in the next iteration\n",
    "            vprime_ext.add(u)\n",
    "        extend_subgraph(G, k, sg | set([w]), vprime_ext, node_id, verbose=verbose)\n",
    "    ##########################################################################\n",
    "\n",
    "def count_iso(G, sg, verbose=False):\n",
    "    '''\n",
    "    Given a set of 3 node indices in sg, obtains the subgraph from the\n",
    "    original graph and renumbers the nodes from 0 to 2.\n",
    "    It then matches this graph with one of the 13 graphs in\n",
    "    directed_3.\n",
    "    When it finds a match, it increments the motif_counts by 1 in the relevant\n",
    "    index\n",
    "\n",
    "    IMPORTANT: counts are stored in global motif_counts variable.\n",
    "    It is reset at the beginning of the enumerate_subgraph method.\n",
    "    '''\n",
    "    if verbose:\n",
    "        print(sg)\n",
    "    nodes = snap.TIntV()\n",
    "    for NId in sg:\n",
    "        nodes.Add(NId)\n",
    "    # This call requires latest version of snap (4.1.0)\n",
    "    SG = snap.GetSubGraphRenumber(G, nodes)\n",
    "    for i in range(len(directed_3)):\n",
    "        if match(directed_3[i], SG):\n",
    "            motif_counts[i] += 1\n",
    "\n",
    "    ##########################################################################\n",
    "\n",
    "def match(G1, G2):\n",
    "    '''\n",
    "    This function compares two graphs of size 3 (number of nodes)\n",
    "    and checks if they are isomorphic.\n",
    "    It returns a boolean indicating whether or not they are isomorphic\n",
    "    You should not need to modify it, but it is also not very elegant...\n",
    "    '''\n",
    "    if G1.GetEdges() > G2.GetEdges():\n",
    "        G = G1\n",
    "        H = G2\n",
    "    else:\n",
    "        G = G2\n",
    "        H = G1\n",
    "    # Only checks 6 permutations, since k = 3\n",
    "    for p in permutations(range(3)):\n",
    "        edge = G.BegEI()\n",
    "        matches = True\n",
    "        while edge < G.EndEI():\n",
    "            if not H.IsEdge(p[edge.GetSrcNId()], p[edge.GetDstNId()]):\n",
    "                matches = False\n",
    "                break\n",
    "            edge.Next()\n",
    "        if matches:\n",
    "            break\n",
    "    return matches"
   ]
  },
  {
   "cell_type": "code",
   "execution_count": null,
   "metadata": {
    "collapsed": true
   },
   "outputs": [],
   "source": []
  },
  {
   "cell_type": "code",
   "execution_count": null,
   "metadata": {
    "collapsed": true
   },
   "outputs": [],
   "source": [
    "directed_3 = load_3_subgraphs()\n",
    "motif_counts = [0]*len(directed_3)\n",
    "\n",
    "q3_2(verbose=True)"
   ]
  },
  {
   "cell_type": "code",
   "execution_count": null,
   "metadata": {
    "collapsed": true
   },
   "outputs": [],
   "source": [
    "\n",
    "def q3_3():\n",
    "    '''\n",
    "    Here you should implement question 3.3\n",
    "    You may initialize the np array with\n",
    "        motifs = np.zeros((10,13))\n",
    "    and assign to it with\n",
    "        motifs[i,:] = motif_counts\n",
    "    '''\n",
    "    ##########################################################################\n",
    "    # Experiment for the Power grid dataset\n",
    "    #TODO: Your code here\n",
    "    plt.clf()\n",
    "    \n",
    "    print 'Starting Q3.3'\n",
    "    motifs = np.zeros((10,13))\n",
    "    G = load_graph('grid')\n",
    "    enumerate_subgraph(G, 3, False)\n",
    "    actual_motif_counts = np.array(motif_counts)\n",
    "    print actual_motif_counts\n",
    "    print '\\n'\n",
    "    for i in range(10):\n",
    "        G = load_graph(\"grid\") \n",
    "        config_graph, _ = gen_config_model_rewire(G, 8000)\n",
    "        enumerate_subgraph(config_graph, 3, False)    \n",
    "        print motif_counts\n",
    "        motifs[i,:] = motif_counts\n",
    "    print np.mean(motifs, axis=0)\n",
    "    z = (actual_motif_counts - np.mean(motifs, axis=0)) / (np.std(motifs, axis=0) + 1e-5)\n",
    "    plt.plot(z) \n",
    "    plt.savefig('q3_grid.png')\n",
    "    plt.clf()\n",
    "    print z\n",
    "\n",
    "\n",
    "    \n",
    "    \n",
    "    # Experiment for the email dataset\n",
    "    #TODO: Your code here\n",
    "    motifs = np.zeros((10,13))\n",
    "    G = load_graph('email')\n",
    "    enumerate_subgraph(G, 3, False)\n",
    "    actual_motif_counts = np.array(motif_counts)\n",
    "    for i in range(10):\n",
    "        G = load_graph(\"email\") \n",
    "        config_graph, _ = gen_config_model_rewire(G, 8000)\n",
    "        enumerate_subgraph(config_graph, 3, False)    \n",
    "        print motif_counts\n",
    "        motifs[i,:] = motif_counts\n",
    "    z = (actual_motif_counts - np.mean(motifs, axis=0)) / np.std(motifs, axis=0)\n",
    "    plt.plot(z) \n",
    "    plt.savefig('q3_email.png')\n",
    "    print z\n",
    "    plt.clf()\n",
    "\n",
    "\n",
    "    ##########################################################################\n",
    "\n",
    "if __name__ == \"__main__\":\n",
    "    # Two global variables. Do not modify.\n",
    "    directed_3 = load_3_subgraphs()\n",
    "    motif_counts = [0]*len(directed_3)\n",
    "    # Questions\n",
    "    q3_1()\n",
    "    q3_2(verbose=True)\n",
    "    q3_3()\n",
    "    print \"Done with Question 3!\\n\""
   ]
  }
 ],
 "metadata": {
  "kernelspec": {
   "display_name": "Python 3",
   "language": "python",
   "name": "python3"
  },
  "language_info": {
   "codemirror_mode": {
    "name": "ipython",
    "version": 3
   },
   "file_extension": ".py",
   "mimetype": "text/x-python",
   "name": "python",
   "nbconvert_exporter": "python",
   "pygments_lexer": "ipython3",
   "version": "3.6.2"
  },
  "varInspector": {
   "cols": {
    "lenName": 16,
    "lenType": 16,
    "lenVar": 40
   },
   "kernels_config": {
    "python": {
     "delete_cmd_postfix": "",
     "delete_cmd_prefix": "del ",
     "library": "var_list.py",
     "varRefreshCmd": "print(var_dic_list())"
    },
    "r": {
     "delete_cmd_postfix": ") ",
     "delete_cmd_prefix": "rm(",
     "library": "var_list.r",
     "varRefreshCmd": "cat(var_dic_list()) "
    }
   },
   "position": {
    "height": "200.4px",
    "left": "1136px",
    "right": "20px",
    "top": "96px",
    "width": "366.4px"
   },
   "types_to_exclude": [
    "module",
    "function",
    "builtin_function_or_method",
    "instance",
    "_Feature"
   ],
   "window_display": true
  }
 },
 "nbformat": 4,
 "nbformat_minor": 2
}
