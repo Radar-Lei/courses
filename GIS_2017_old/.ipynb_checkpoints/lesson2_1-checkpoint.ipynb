{
 "cells": [
  {
   "cell_type": "code",
   "execution_count": 4,
   "metadata": {
    "ExecuteTime": {
     "end_time": "2019-05-10T20:59:37.527775Z",
     "start_time": "2019-05-10T20:59:36.623004Z"
    }
   },
   "outputs": [
    {
     "name": "stdout",
     "output_type": "stream",
     "text": [
      "DAMSELFISH_distributions.cpg\n",
      "DAMSELFISH_distributions.dbf\n",
      "DAMSELFISH_distributions.prj\n",
      "DAMSELFISH_distributions.shp\n",
      "DAMSELFISH_distributions.shx\n",
      "Untitled.ipynb\n",
      "installing.ipynb\n"
     ]
    }
   ],
   "source": [
    "!ls"
   ]
  },
  {
   "cell_type": "code",
   "execution_count": 10,
   "metadata": {
    "ExecuteTime": {
     "end_time": "2019-05-10T21:04:02.069053Z",
     "start_time": "2019-05-10T21:04:01.702284Z"
    }
   },
   "outputs": [],
   "source": [
    "import geopandas as gpd\n",
    "%matplotlib inline"
   ]
  },
  {
   "cell_type": "code",
   "execution_count": 6,
   "metadata": {
    "ExecuteTime": {
     "end_time": "2019-05-10T21:00:40.277800Z",
     "start_time": "2019-05-10T21:00:39.777821Z"
    }
   },
   "outputs": [],
   "source": [
    "data = gpd.read_file('Data/DAMSELFISH_distributions.shp')"
   ]
  },
  {
   "cell_type": "code",
   "execution_count": 7,
   "metadata": {
    "ExecuteTime": {
     "end_time": "2019-05-10T21:00:52.110091Z",
     "start_time": "2019-05-10T21:00:52.101028Z"
    }
   },
   "outputs": [
    {
     "data": {
      "text/plain": [
       "geopandas.geodataframe.GeoDataFrame"
      ]
     },
     "execution_count": 7,
     "metadata": {},
     "output_type": "execute_result"
    }
   ],
   "source": [
    "type(data)"
   ]
  },
  {
   "cell_type": "code",
   "execution_count": 8,
   "metadata": {
    "ExecuteTime": {
     "end_time": "2019-05-10T21:01:28.255219Z",
     "start_time": "2019-05-10T21:01:27.556132Z"
    }
   },
   "outputs": [
    {
     "data": {
      "text/html": [
       "<div>\n",
       "<style scoped>\n",
       "    .dataframe tbody tr th:only-of-type {\n",
       "        vertical-align: middle;\n",
       "    }\n",
       "\n",
       "    .dataframe tbody tr th {\n",
       "        vertical-align: top;\n",
       "    }\n",
       "\n",
       "    .dataframe thead th {\n",
       "        text-align: right;\n",
       "    }\n",
       "</style>\n",
       "<table border=\"1\" class=\"dataframe\">\n",
       "  <thead>\n",
       "    <tr style=\"text-align: right;\">\n",
       "      <th></th>\n",
       "      <th>ID_NO</th>\n",
       "      <th>BINOMIAL</th>\n",
       "      <th>ORIGIN</th>\n",
       "      <th>COMPILER</th>\n",
       "      <th>YEAR</th>\n",
       "      <th>CITATION</th>\n",
       "      <th>SOURCE</th>\n",
       "      <th>DIST_COMM</th>\n",
       "      <th>ISLAND</th>\n",
       "      <th>SUBSPECIES</th>\n",
       "      <th>...</th>\n",
       "      <th>RL_UPDATE</th>\n",
       "      <th>KINGDOM_NA</th>\n",
       "      <th>PHYLUM_NAM</th>\n",
       "      <th>CLASS_NAME</th>\n",
       "      <th>ORDER_NAME</th>\n",
       "      <th>FAMILY_NAM</th>\n",
       "      <th>GENUS_NAME</th>\n",
       "      <th>SPECIES_NA</th>\n",
       "      <th>CATEGORY</th>\n",
       "      <th>geometry</th>\n",
       "    </tr>\n",
       "  </thead>\n",
       "  <tbody>\n",
       "    <tr>\n",
       "      <th>0</th>\n",
       "      <td>183963.0</td>\n",
       "      <td>Stegastes leucorus</td>\n",
       "      <td>1</td>\n",
       "      <td>IUCN</td>\n",
       "      <td>2010</td>\n",
       "      <td>International Union for Conservation of Nature...</td>\n",
       "      <td>None</td>\n",
       "      <td>None</td>\n",
       "      <td>None</td>\n",
       "      <td>None</td>\n",
       "      <td>...</td>\n",
       "      <td>2012.1</td>\n",
       "      <td>ANIMALIA</td>\n",
       "      <td>CHORDATA</td>\n",
       "      <td>ACTINOPTERYGII</td>\n",
       "      <td>PERCIFORMES</td>\n",
       "      <td>POMACENTRIDAE</td>\n",
       "      <td>Stegastes</td>\n",
       "      <td>leucorus</td>\n",
       "      <td>VU</td>\n",
       "      <td>POLYGON ((-115.6437454219999 29.71392059300007...</td>\n",
       "    </tr>\n",
       "    <tr>\n",
       "      <th>1</th>\n",
       "      <td>183963.0</td>\n",
       "      <td>Stegastes leucorus</td>\n",
       "      <td>1</td>\n",
       "      <td>IUCN</td>\n",
       "      <td>2010</td>\n",
       "      <td>International Union for Conservation of Nature...</td>\n",
       "      <td>None</td>\n",
       "      <td>None</td>\n",
       "      <td>None</td>\n",
       "      <td>None</td>\n",
       "      <td>...</td>\n",
       "      <td>2012.1</td>\n",
       "      <td>ANIMALIA</td>\n",
       "      <td>CHORDATA</td>\n",
       "      <td>ACTINOPTERYGII</td>\n",
       "      <td>PERCIFORMES</td>\n",
       "      <td>POMACENTRIDAE</td>\n",
       "      <td>Stegastes</td>\n",
       "      <td>leucorus</td>\n",
       "      <td>VU</td>\n",
       "      <td>POLYGON ((-105.589950704 21.89339825500002, -1...</td>\n",
       "    </tr>\n",
       "    <tr>\n",
       "      <th>2</th>\n",
       "      <td>183963.0</td>\n",
       "      <td>Stegastes leucorus</td>\n",
       "      <td>1</td>\n",
       "      <td>IUCN</td>\n",
       "      <td>2010</td>\n",
       "      <td>International Union for Conservation of Nature...</td>\n",
       "      <td>None</td>\n",
       "      <td>None</td>\n",
       "      <td>None</td>\n",
       "      <td>None</td>\n",
       "      <td>...</td>\n",
       "      <td>2012.1</td>\n",
       "      <td>ANIMALIA</td>\n",
       "      <td>CHORDATA</td>\n",
       "      <td>ACTINOPTERYGII</td>\n",
       "      <td>PERCIFORMES</td>\n",
       "      <td>POMACENTRIDAE</td>\n",
       "      <td>Stegastes</td>\n",
       "      <td>leucorus</td>\n",
       "      <td>VU</td>\n",
       "      <td>POLYGON ((-111.159618439 19.01535626700007, -1...</td>\n",
       "    </tr>\n",
       "    <tr>\n",
       "      <th>3</th>\n",
       "      <td>183793.0</td>\n",
       "      <td>Chromis intercrusma</td>\n",
       "      <td>1</td>\n",
       "      <td>IUCN</td>\n",
       "      <td>2010</td>\n",
       "      <td>International Union for Conservation of Nature...</td>\n",
       "      <td>None</td>\n",
       "      <td>None</td>\n",
       "      <td>None</td>\n",
       "      <td>None</td>\n",
       "      <td>...</td>\n",
       "      <td>2012.1</td>\n",
       "      <td>ANIMALIA</td>\n",
       "      <td>CHORDATA</td>\n",
       "      <td>ACTINOPTERYGII</td>\n",
       "      <td>PERCIFORMES</td>\n",
       "      <td>POMACENTRIDAE</td>\n",
       "      <td>Chromis</td>\n",
       "      <td>intercrusma</td>\n",
       "      <td>LC</td>\n",
       "      <td>POLYGON ((-80.86500229899997 -0.77894492099994...</td>\n",
       "    </tr>\n",
       "    <tr>\n",
       "      <th>4</th>\n",
       "      <td>183793.0</td>\n",
       "      <td>Chromis intercrusma</td>\n",
       "      <td>1</td>\n",
       "      <td>IUCN</td>\n",
       "      <td>2010</td>\n",
       "      <td>International Union for Conservation of Nature...</td>\n",
       "      <td>None</td>\n",
       "      <td>None</td>\n",
       "      <td>None</td>\n",
       "      <td>None</td>\n",
       "      <td>...</td>\n",
       "      <td>2012.1</td>\n",
       "      <td>ANIMALIA</td>\n",
       "      <td>CHORDATA</td>\n",
       "      <td>ACTINOPTERYGII</td>\n",
       "      <td>PERCIFORMES</td>\n",
       "      <td>POMACENTRIDAE</td>\n",
       "      <td>Chromis</td>\n",
       "      <td>intercrusma</td>\n",
       "      <td>LC</td>\n",
       "      <td>POLYGON ((-67.33922225599997 -55.6761029239999...</td>\n",
       "    </tr>\n",
       "  </tbody>\n",
       "</table>\n",
       "<p>5 rows × 24 columns</p>\n",
       "</div>"
      ],
      "text/plain": [
       "      ID_NO             BINOMIAL  ORIGIN COMPILER  YEAR  \\\n",
       "0  183963.0   Stegastes leucorus       1     IUCN  2010   \n",
       "1  183963.0   Stegastes leucorus       1     IUCN  2010   \n",
       "2  183963.0   Stegastes leucorus       1     IUCN  2010   \n",
       "3  183793.0  Chromis intercrusma       1     IUCN  2010   \n",
       "4  183793.0  Chromis intercrusma       1     IUCN  2010   \n",
       "\n",
       "                                            CITATION SOURCE DIST_COMM ISLAND  \\\n",
       "0  International Union for Conservation of Nature...   None      None   None   \n",
       "1  International Union for Conservation of Nature...   None      None   None   \n",
       "2  International Union for Conservation of Nature...   None      None   None   \n",
       "3  International Union for Conservation of Nature...   None      None   None   \n",
       "4  International Union for Conservation of Nature...   None      None   None   \n",
       "\n",
       "  SUBSPECIES  ... RL_UPDATE KINGDOM_NA  PHYLUM_NAM      CLASS_NAME  \\\n",
       "0       None  ...    2012.1   ANIMALIA    CHORDATA  ACTINOPTERYGII   \n",
       "1       None  ...    2012.1   ANIMALIA    CHORDATA  ACTINOPTERYGII   \n",
       "2       None  ...    2012.1   ANIMALIA    CHORDATA  ACTINOPTERYGII   \n",
       "3       None  ...    2012.1   ANIMALIA    CHORDATA  ACTINOPTERYGII   \n",
       "4       None  ...    2012.1   ANIMALIA    CHORDATA  ACTINOPTERYGII   \n",
       "\n",
       "    ORDER_NAME     FAMILY_NAM GENUS_NAME   SPECIES_NA CATEGORY  \\\n",
       "0  PERCIFORMES  POMACENTRIDAE  Stegastes     leucorus       VU   \n",
       "1  PERCIFORMES  POMACENTRIDAE  Stegastes     leucorus       VU   \n",
       "2  PERCIFORMES  POMACENTRIDAE  Stegastes     leucorus       VU   \n",
       "3  PERCIFORMES  POMACENTRIDAE    Chromis  intercrusma       LC   \n",
       "4  PERCIFORMES  POMACENTRIDAE    Chromis  intercrusma       LC   \n",
       "\n",
       "                                            geometry  \n",
       "0  POLYGON ((-115.6437454219999 29.71392059300007...  \n",
       "1  POLYGON ((-105.589950704 21.89339825500002, -1...  \n",
       "2  POLYGON ((-111.159618439 19.01535626700007, -1...  \n",
       "3  POLYGON ((-80.86500229899997 -0.77894492099994...  \n",
       "4  POLYGON ((-67.33922225599997 -55.6761029239999...  \n",
       "\n",
       "[5 rows x 24 columns]"
      ]
     },
     "execution_count": 8,
     "metadata": {},
     "output_type": "execute_result"
    }
   ],
   "source": [
    "data.head()"
   ]
  },
  {
   "cell_type": "code",
   "execution_count": 11,
   "metadata": {
    "ExecuteTime": {
     "end_time": "2019-05-10T21:04:05.884090Z",
     "start_time": "2019-05-10T21:04:04.508659Z"
    },
    "scrolled": true
   },
   "outputs": [
    {
     "data": {
      "text/plain": [
       "<matplotlib.axes._subplots.AxesSubplot at 0x1d189c5dbe0>"
      ]
     },
     "execution_count": 11,
     "metadata": {},
     "output_type": "execute_result"
    },
    {
     "data": {
      "image/png": "[encoded data removed]",
      "text/plain": [
       "<Figure size 432x288 with 1 Axes>"
      ]
     },
     "metadata": {
      "needs_background": "light"
     },
     "output_type": "display_data"
    }
   ],
   "source": [
    "data.plot()"
   ]
  },
  {
   "cell_type": "code",
   "execution_count": 12,
   "metadata": {
    "ExecuteTime": {
     "end_time": "2019-05-10T21:06:02.593023Z",
     "start_time": "2019-05-10T21:06:00.653386Z"
    }
   },
   "outputs": [],
   "source": [
    "selection = data[0:50]\n",
    "out = r'DAMSELFISH_distributions_SELECTION.shp'\n",
    "selection.to_file(out)"
   ]
  },
  {
   "cell_type": "code",
   "execution_count": 13,
   "metadata": {
    "ExecuteTime": {
     "end_time": "2019-05-10T21:06:58.659072Z",
     "start_time": "2019-05-10T21:06:58.336515Z"
    }
   },
   "outputs": [
    {
     "data": {
      "text/plain": [
       "0    POLYGON ((-115.6437454219999 29.71392059300007...\n",
       "1    POLYGON ((-105.589950704 21.89339825500002, -1...\n",
       "2    POLYGON ((-111.159618439 19.01535626700007, -1...\n",
       "3    POLYGON ((-80.86500229899997 -0.77894492099994...\n",
       "4    POLYGON ((-67.33922225599997 -55.6761029239999...\n",
       "Name: geometry, dtype: object"
      ]
     },
     "execution_count": 13,
     "metadata": {},
     "output_type": "execute_result"
    }
   ],
   "source": [
    "data['geometry'].head()"
   ]
  },
  {
   "cell_type": "code",
   "execution_count": 14,
   "metadata": {
    "ExecuteTime": {
     "end_time": "2019-05-10T21:07:16.395811Z",
     "start_time": "2019-05-10T21:07:16.391819Z"
    }
   },
   "outputs": [],
   "source": [
    "selection = data[0:5]"
   ]
  },
  {
   "cell_type": "code",
   "execution_count": 15,
   "metadata": {
    "ExecuteTime": {
     "end_time": "2019-05-10T21:08:33.884633Z",
     "start_time": "2019-05-10T21:08:33.877652Z"
    }
   },
   "outputs": [
    {
     "name": "stdout",
     "output_type": "stream",
     "text": [
      "Polygon area at index 0 is: 19.396\n",
      "Polygon area at index 1 is: 6.146\n",
      "Polygon area at index 2 is: 2.697\n",
      "Polygon area at index 3 is: 87.461\n",
      "Polygon area at index 4 is: 0.001\n"
     ]
    }
   ],
   "source": [
    "for index, row in selection.iterrows():\n",
    "    poly_area = row['geometry'].area\n",
    "    print(\"Polygon area at index {0} is: {1:.3f}\".format(index, poly_area))"
   ]
  },
  {
   "cell_type": "code",
   "execution_count": 16,
   "metadata": {
    "ExecuteTime": {
     "end_time": "2019-05-10T21:24:49.331296Z",
     "start_time": "2019-05-10T21:24:49.318361Z"
    }
   },
   "outputs": [],
   "source": [
    "data['area'] = data.area"
   ]
  },
  {
   "cell_type": "code",
   "execution_count": 17,
   "metadata": {
    "ExecuteTime": {
     "end_time": "2019-05-10T21:24:58.252528Z",
     "start_time": "2019-05-10T21:24:58.246510Z"
    }
   },
   "outputs": [
    {
     "data": {
      "text/plain": [
       "0    19.396254\n",
       "1     6.145902\n",
       "Name: area, dtype: float64"
      ]
     },
     "execution_count": 17,
     "metadata": {},
     "output_type": "execute_result"
    }
   ],
   "source": [
    "data['area'].head(2)"
   ]
  },
  {
   "cell_type": "code",
   "execution_count": 18,
   "metadata": {
    "ExecuteTime": {
     "end_time": "2019-05-10T21:27:04.620593Z",
     "start_time": "2019-05-10T21:27:04.616567Z"
    }
   },
   "outputs": [
    {
     "name": "stdout",
     "output_type": "stream",
     "text": [
      "Max area: 1493.2\n",
      "Mean area: 19.96\n"
     ]
    }
   ],
   "source": [
    "max_area = data['area'].max()\n",
    "mean_area = data['area'].mean()\n",
    "print(\"Max area: %s\\nMean area: %s\" % (round(max_area, 2), round(mean_area, 2)))"
   ]
  },
  {
   "cell_type": "markdown",
   "metadata": {},
   "source": [
    "# Creating geometries into a GeoDataFrame\n",
    "Since geopandas takes advantage of Shapely geometric objects it is possible to create a Shapefile from a scratch by passing Shapely’s geometric objects into the GeoDataFrame. This is useful as it makes it easy to convert e.g. a text file that contains coordinates into a Shapefile.\n",
    "\n",
    "Let’s create an empty GeoDataFrame."
   ]
  },
  {
   "cell_type": "code",
   "execution_count": 19,
   "metadata": {
    "ExecuteTime": {
     "end_time": "2019-05-10T22:03:00.898123Z",
     "start_time": "2019-05-10T22:03:00.894134Z"
    }
   },
   "outputs": [],
   "source": [
    "import pandas as pd\n",
    "import geopandas as gpd\n",
    "from shapely.geometry import Point, Polygon\n",
    "import fiona"
   ]
  },
  {
   "cell_type": "code",
   "execution_count": 20,
   "metadata": {
    "ExecuteTime": {
     "end_time": "2019-05-10T22:03:18.706707Z",
     "start_time": "2019-05-10T22:03:18.701720Z"
    }
   },
   "outputs": [],
   "source": [
    "# Create an empty geopandas GeoDataFrame\n",
    "newdata = gpd.GeoDataFrame()"
   ]
  },
  {
   "cell_type": "code",
   "execution_count": 23,
   "metadata": {
    "ExecuteTime": {
     "end_time": "2019-05-10T22:04:06.543430Z",
     "start_time": "2019-05-10T22:04:06.536450Z"
    },
    "scrolled": true
   },
   "outputs": [
    {
     "data": {
      "text/html": [
       "<div>\n",
       "<style scoped>\n",
       "    .dataframe tbody tr th:only-of-type {\n",
       "        vertical-align: middle;\n",
       "    }\n",
       "\n",
       "    .dataframe tbody tr th {\n",
       "        vertical-align: top;\n",
       "    }\n",
       "\n",
       "    .dataframe thead th {\n",
       "        text-align: right;\n",
       "    }\n",
       "</style>\n",
       "<table border=\"1\" class=\"dataframe\">\n",
       "  <thead>\n",
       "    <tr style=\"text-align: right;\">\n",
       "      <th></th>\n",
       "    </tr>\n",
       "  </thead>\n",
       "  <tbody>\n",
       "  </tbody>\n",
       "</table>\n",
       "</div>"
      ],
      "text/plain": [
       "Empty GeoDataFrame\n",
       "Columns: []\n",
       "Index: []"
      ]
     },
     "execution_count": 23,
     "metadata": {},
     "output_type": "execute_result"
    }
   ],
   "source": [
    "# Let's see what's inside\n",
    "newdata"
   ]
  },
  {
   "cell_type": "code",
   "execution_count": 24,
   "metadata": {
    "ExecuteTime": {
     "end_time": "2019-05-10T22:04:55.948631Z",
     "start_time": "2019-05-10T22:04:55.942648Z"
    }
   },
   "outputs": [],
   "source": [
    "# Create a new column called 'geometry' to the GeoDataFrame\n",
    "newdata['geometry'] = None"
   ]
  },
  {
   "cell_type": "code",
   "execution_count": 25,
   "metadata": {
    "ExecuteTime": {
     "end_time": "2019-05-10T22:05:02.725832Z",
     "start_time": "2019-05-10T22:05:02.717854Z"
    },
    "scrolled": true
   },
   "outputs": [
    {
     "data": {
      "text/html": [
       "<div>\n",
       "<style scoped>\n",
       "    .dataframe tbody tr th:only-of-type {\n",
       "        vertical-align: middle;\n",
       "    }\n",
       "\n",
       "    .dataframe tbody tr th {\n",
       "        vertical-align: top;\n",
       "    }\n",
       "\n",
       "    .dataframe thead th {\n",
       "        text-align: right;\n",
       "    }\n",
       "</style>\n",
       "<table border=\"1\" class=\"dataframe\">\n",
       "  <thead>\n",
       "    <tr style=\"text-align: right;\">\n",
       "      <th></th>\n",
       "      <th>geometry</th>\n",
       "    </tr>\n",
       "  </thead>\n",
       "  <tbody>\n",
       "  </tbody>\n",
       "</table>\n",
       "</div>"
      ],
      "text/plain": [
       "Empty GeoDataFrame\n",
       "Columns: [geometry]\n",
       "Index: []"
      ]
     },
     "execution_count": 25,
     "metadata": {},
     "output_type": "execute_result"
    }
   ],
   "source": [
    "newdata"
   ]
  },
  {
   "cell_type": "code",
   "execution_count": 27,
   "metadata": {
    "ExecuteTime": {
     "end_time": "2019-05-10T22:11:16.901970Z",
     "start_time": "2019-05-10T22:11:16.895978Z"
    }
   },
   "outputs": [
    {
     "data": {
      "text/plain": [
       "shapely.geometry.polygon.Polygon"
      ]
     },
     "execution_count": 27,
     "metadata": {},
     "output_type": "execute_result"
    }
   ],
   "source": [
    "coordinates = [(24.950899, 60.169158), (24.953492, 60.169158), (24.953510, 60.170104), (24.950958, 60.169990)]\n",
    "poly = Polygon(coordinates)\n",
    "type(poly)"
   ]
  },
  {
   "cell_type": "code",
   "execution_count": 28,
   "metadata": {
    "ExecuteTime": {
     "end_time": "2019-05-10T22:11:47.151993Z",
     "start_time": "2019-05-10T22:11:46.757795Z"
    }
   },
   "outputs": [
    {
     "data": {
      "text/html": [
       "<div>\n",
       "<style scoped>\n",
       "    .dataframe tbody tr th:only-of-type {\n",
       "        vertical-align: middle;\n",
       "    }\n",
       "\n",
       "    .dataframe tbody tr th {\n",
       "        vertical-align: top;\n",
       "    }\n",
       "\n",
       "    .dataframe thead th {\n",
       "        text-align: right;\n",
       "    }\n",
       "</style>\n",
       "<table border=\"1\" class=\"dataframe\">\n",
       "  <thead>\n",
       "    <tr style=\"text-align: right;\">\n",
       "      <th></th>\n",
       "      <th>geometry</th>\n",
       "    </tr>\n",
       "  </thead>\n",
       "  <tbody>\n",
       "    <tr>\n",
       "      <th>0</th>\n",
       "      <td>POLYGON ((24.950899 60.169158, 24.953492 60.16...</td>\n",
       "    </tr>\n",
       "  </tbody>\n",
       "</table>\n",
       "</div>"
      ],
      "text/plain": [
       "                                            geometry\n",
       "0  POLYGON ((24.950899 60.169158, 24.953492 60.16..."
      ]
     },
     "execution_count": 28,
     "metadata": {},
     "output_type": "execute_result"
    }
   ],
   "source": [
    "newdata.loc[0, 'geometry'] = poly\n",
    "newdata"
   ]
  },
  {
   "cell_type": "code",
   "execution_count": 29,
   "metadata": {
    "ExecuteTime": {
     "end_time": "2019-05-10T22:15:02.650542Z",
     "start_time": "2019-05-10T22:15:02.636573Z"
    }
   },
   "outputs": [
    {
     "data": {
      "text/html": [
       "<div>\n",
       "<style scoped>\n",
       "    .dataframe tbody tr th:only-of-type {\n",
       "        vertical-align: middle;\n",
       "    }\n",
       "\n",
       "    .dataframe tbody tr th {\n",
       "        vertical-align: top;\n",
       "    }\n",
       "\n",
       "    .dataframe thead th {\n",
       "        text-align: right;\n",
       "    }\n",
       "</style>\n",
       "<table border=\"1\" class=\"dataframe\">\n",
       "  <thead>\n",
       "    <tr style=\"text-align: right;\">\n",
       "      <th></th>\n",
       "      <th>geometry</th>\n",
       "      <th>Location</th>\n",
       "    </tr>\n",
       "  </thead>\n",
       "  <tbody>\n",
       "    <tr>\n",
       "      <th>0</th>\n",
       "      <td>POLYGON ((24.950899 60.169158, 24.953492 60.16...</td>\n",
       "      <td>Senaatintori</td>\n",
       "    </tr>\n",
       "  </tbody>\n",
       "</table>\n",
       "</div>"
      ],
      "text/plain": [
       "                                            geometry      Location\n",
       "0  POLYGON ((24.950899 60.169158, 24.953492 60.16...  Senaatintori"
      ]
     },
     "execution_count": 29,
     "metadata": {},
     "output_type": "execute_result"
    }
   ],
   "source": [
    "newdata.loc[0, 'Location'] = 'Senaatintori'\n",
    "newdata"
   ]
  },
  {
   "cell_type": "code",
   "execution_count": 30,
   "metadata": {
    "ExecuteTime": {
     "end_time": "2019-05-10T22:16:07.710718Z",
     "start_time": "2019-05-10T22:16:07.706724Z"
    }
   },
   "outputs": [
    {
     "name": "stdout",
     "output_type": "stream",
     "text": [
      "None\n"
     ]
    }
   ],
   "source": [
    "print(newdata.crs)"
   ]
  },
  {
   "cell_type": "code",
   "execution_count": 31,
   "metadata": {
    "ExecuteTime": {
     "end_time": "2019-05-10T22:21:44.287511Z",
     "start_time": "2019-05-10T22:21:44.281525Z"
    }
   },
   "outputs": [
    {
     "data": {
      "text/plain": [
       "{'init': 'epsg:4326', 'no_defs': True}"
      ]
     },
     "execution_count": 31,
     "metadata": {},
     "output_type": "execute_result"
    }
   ],
   "source": [
    "from fiona.crs import from_epsg\n",
    "newdata.crs = from_epsg(4326)\n",
    "newdata.crs"
   ]
  },
  {
   "cell_type": "code",
   "execution_count": 33,
   "metadata": {
    "ExecuteTime": {
     "end_time": "2019-05-10T22:24:03.867031Z",
     "start_time": "2019-05-10T22:24:03.854066Z"
    }
   },
   "outputs": [],
   "source": [
    "outfp = r\"Senaatintori.shp\"\n",
    "newdata.to_file(outfp)"
   ]
  },
  {
   "cell_type": "code",
   "execution_count": 34,
   "metadata": {
    "ExecuteTime": {
     "end_time": "2019-05-10T22:27:19.742733Z",
     "start_time": "2019-05-10T22:27:19.737713Z"
    }
   },
   "outputs": [
    {
     "data": {
      "text/plain": [
       "<pandas.core.groupby.generic.DataFrameGroupBy object at 0x000001D18D699278>"
      ]
     },
     "execution_count": 34,
     "metadata": {},
     "output_type": "execute_result"
    }
   ],
   "source": [
    "grouped = data.groupby('BINOMIAL')\n",
    "grouped"
   ]
  },
  {
   "cell_type": "code",
   "execution_count": 35,
   "metadata": {
    "ExecuteTime": {
     "end_time": "2019-05-10T22:28:07.594723Z",
     "start_time": "2019-05-10T22:28:07.215768Z"
    }
   },
   "outputs": [],
   "source": [
    "for key, values in grouped:\n",
    "    individual_fish = values"
   ]
  },
  {
   "cell_type": "code",
   "execution_count": 36,
   "metadata": {
    "ExecuteTime": {
     "end_time": "2019-05-10T22:28:20.501667Z",
     "start_time": "2019-05-10T22:28:20.031925Z"
    }
   },
   "outputs": [
    {
     "data": {
      "text/html": [
       "<div>\n",
       "<style scoped>\n",
       "    .dataframe tbody tr th:only-of-type {\n",
       "        vertical-align: middle;\n",
       "    }\n",
       "\n",
       "    .dataframe tbody tr th {\n",
       "        vertical-align: top;\n",
       "    }\n",
       "\n",
       "    .dataframe thead th {\n",
       "        text-align: right;\n",
       "    }\n",
       "</style>\n",
       "<table border=\"1\" class=\"dataframe\">\n",
       "  <thead>\n",
       "    <tr style=\"text-align: right;\">\n",
       "      <th></th>\n",
       "      <th>ID_NO</th>\n",
       "      <th>BINOMIAL</th>\n",
       "      <th>ORIGIN</th>\n",
       "      <th>COMPILER</th>\n",
       "      <th>YEAR</th>\n",
       "      <th>CITATION</th>\n",
       "      <th>SOURCE</th>\n",
       "      <th>DIST_COMM</th>\n",
       "      <th>ISLAND</th>\n",
       "      <th>SUBSPECIES</th>\n",
       "      <th>...</th>\n",
       "      <th>KINGDOM_NA</th>\n",
       "      <th>PHYLUM_NAM</th>\n",
       "      <th>CLASS_NAME</th>\n",
       "      <th>ORDER_NAME</th>\n",
       "      <th>FAMILY_NAM</th>\n",
       "      <th>GENUS_NAME</th>\n",
       "      <th>SPECIES_NA</th>\n",
       "      <th>CATEGORY</th>\n",
       "      <th>geometry</th>\n",
       "      <th>area</th>\n",
       "    </tr>\n",
       "  </thead>\n",
       "  <tbody>\n",
       "    <tr>\n",
       "      <th>27</th>\n",
       "      <td>154915.0</td>\n",
       "      <td>Teixeirichthys jordani</td>\n",
       "      <td>1</td>\n",
       "      <td>None</td>\n",
       "      <td>2012</td>\n",
       "      <td>Red List Index (Sampled Approach), Zoological ...</td>\n",
       "      <td>None</td>\n",
       "      <td>None</td>\n",
       "      <td>None</td>\n",
       "      <td>None</td>\n",
       "      <td>...</td>\n",
       "      <td>ANIMALIA</td>\n",
       "      <td>CHORDATA</td>\n",
       "      <td>ACTINOPTERYGII</td>\n",
       "      <td>PERCIFORMES</td>\n",
       "      <td>POMACENTRIDAE</td>\n",
       "      <td>Teixeirichthys</td>\n",
       "      <td>jordani</td>\n",
       "      <td>LC</td>\n",
       "      <td>POLYGON ((121.6300326400001 33.04248618400004,...</td>\n",
       "      <td>38.671198</td>\n",
       "    </tr>\n",
       "    <tr>\n",
       "      <th>28</th>\n",
       "      <td>154915.0</td>\n",
       "      <td>Teixeirichthys jordani</td>\n",
       "      <td>1</td>\n",
       "      <td>None</td>\n",
       "      <td>2012</td>\n",
       "      <td>Red List Index (Sampled Approach), Zoological ...</td>\n",
       "      <td>None</td>\n",
       "      <td>None</td>\n",
       "      <td>None</td>\n",
       "      <td>None</td>\n",
       "      <td>...</td>\n",
       "      <td>ANIMALIA</td>\n",
       "      <td>CHORDATA</td>\n",
       "      <td>ACTINOPTERYGII</td>\n",
       "      <td>PERCIFORMES</td>\n",
       "      <td>POMACENTRIDAE</td>\n",
       "      <td>Teixeirichthys</td>\n",
       "      <td>jordani</td>\n",
       "      <td>LC</td>\n",
       "      <td>POLYGON ((32.56219482400007 29.97488975500005,...</td>\n",
       "      <td>37.445735</td>\n",
       "    </tr>\n",
       "    <tr>\n",
       "      <th>29</th>\n",
       "      <td>154915.0</td>\n",
       "      <td>Teixeirichthys jordani</td>\n",
       "      <td>1</td>\n",
       "      <td>None</td>\n",
       "      <td>2012</td>\n",
       "      <td>Red List Index (Sampled Approach), Zoological ...</td>\n",
       "      <td>None</td>\n",
       "      <td>None</td>\n",
       "      <td>None</td>\n",
       "      <td>None</td>\n",
       "      <td>...</td>\n",
       "      <td>ANIMALIA</td>\n",
       "      <td>CHORDATA</td>\n",
       "      <td>ACTINOPTERYGII</td>\n",
       "      <td>PERCIFORMES</td>\n",
       "      <td>POMACENTRIDAE</td>\n",
       "      <td>Teixeirichthys</td>\n",
       "      <td>jordani</td>\n",
       "      <td>LC</td>\n",
       "      <td>POLYGON ((130.9052090560001 34.02498196400006,...</td>\n",
       "      <td>16.939460</td>\n",
       "    </tr>\n",
       "    <tr>\n",
       "      <th>30</th>\n",
       "      <td>154915.0</td>\n",
       "      <td>Teixeirichthys jordani</td>\n",
       "      <td>1</td>\n",
       "      <td>None</td>\n",
       "      <td>2012</td>\n",
       "      <td>Red List Index (Sampled Approach), Zoological ...</td>\n",
       "      <td>None</td>\n",
       "      <td>None</td>\n",
       "      <td>None</td>\n",
       "      <td>None</td>\n",
       "      <td>...</td>\n",
       "      <td>ANIMALIA</td>\n",
       "      <td>CHORDATA</td>\n",
       "      <td>ACTINOPTERYGII</td>\n",
       "      <td>PERCIFORMES</td>\n",
       "      <td>POMACENTRIDAE</td>\n",
       "      <td>Teixeirichthys</td>\n",
       "      <td>jordani</td>\n",
       "      <td>LC</td>\n",
       "      <td>POLYGON ((56.32233070000007 -3.707270205999976...</td>\n",
       "      <td>10.126967</td>\n",
       "    </tr>\n",
       "    <tr>\n",
       "      <th>31</th>\n",
       "      <td>154915.0</td>\n",
       "      <td>Teixeirichthys jordani</td>\n",
       "      <td>1</td>\n",
       "      <td>None</td>\n",
       "      <td>2012</td>\n",
       "      <td>Red List Index (Sampled Approach), Zoological ...</td>\n",
       "      <td>None</td>\n",
       "      <td>None</td>\n",
       "      <td>None</td>\n",
       "      <td>None</td>\n",
       "      <td>...</td>\n",
       "      <td>ANIMALIA</td>\n",
       "      <td>CHORDATA</td>\n",
       "      <td>ACTINOPTERYGII</td>\n",
       "      <td>PERCIFORMES</td>\n",
       "      <td>POMACENTRIDAE</td>\n",
       "      <td>Teixeirichthys</td>\n",
       "      <td>jordani</td>\n",
       "      <td>LC</td>\n",
       "      <td>POLYGON ((40.64476131800006 -10.85502363999996...</td>\n",
       "      <td>7.760303</td>\n",
       "    </tr>\n",
       "    <tr>\n",
       "      <th>32</th>\n",
       "      <td>154915.0</td>\n",
       "      <td>Teixeirichthys jordani</td>\n",
       "      <td>1</td>\n",
       "      <td>None</td>\n",
       "      <td>2012</td>\n",
       "      <td>Red List Index (Sampled Approach), Zoological ...</td>\n",
       "      <td>None</td>\n",
       "      <td>None</td>\n",
       "      <td>None</td>\n",
       "      <td>None</td>\n",
       "      <td>...</td>\n",
       "      <td>ANIMALIA</td>\n",
       "      <td>CHORDATA</td>\n",
       "      <td>ACTINOPTERYGII</td>\n",
       "      <td>PERCIFORMES</td>\n",
       "      <td>POMACENTRIDAE</td>\n",
       "      <td>Teixeirichthys</td>\n",
       "      <td>jordani</td>\n",
       "      <td>LC</td>\n",
       "      <td>POLYGON ((48.11258402900006 -9.335103113999935...</td>\n",
       "      <td>3.434236</td>\n",
       "    </tr>\n",
       "    <tr>\n",
       "      <th>33</th>\n",
       "      <td>154915.0</td>\n",
       "      <td>Teixeirichthys jordani</td>\n",
       "      <td>1</td>\n",
       "      <td>None</td>\n",
       "      <td>2012</td>\n",
       "      <td>Red List Index (Sampled Approach), Zoological ...</td>\n",
       "      <td>None</td>\n",
       "      <td>None</td>\n",
       "      <td>None</td>\n",
       "      <td>None</td>\n",
       "      <td>...</td>\n",
       "      <td>ANIMALIA</td>\n",
       "      <td>CHORDATA</td>\n",
       "      <td>ACTINOPTERYGII</td>\n",
       "      <td>PERCIFORMES</td>\n",
       "      <td>POMACENTRIDAE</td>\n",
       "      <td>Teixeirichthys</td>\n",
       "      <td>jordani</td>\n",
       "      <td>LC</td>\n",
       "      <td>POLYGON ((51.75403543100003 -9.21679305899994,...</td>\n",
       "      <td>2.408620</td>\n",
       "    </tr>\n",
       "  </tbody>\n",
       "</table>\n",
       "<p>7 rows × 25 columns</p>\n",
       "</div>"
      ],
      "text/plain": [
       "       ID_NO                BINOMIAL  ORIGIN COMPILER  YEAR  \\\n",
       "27  154915.0  Teixeirichthys jordani       1     None  2012   \n",
       "28  154915.0  Teixeirichthys jordani       1     None  2012   \n",
       "29  154915.0  Teixeirichthys jordani       1     None  2012   \n",
       "30  154915.0  Teixeirichthys jordani       1     None  2012   \n",
       "31  154915.0  Teixeirichthys jordani       1     None  2012   \n",
       "32  154915.0  Teixeirichthys jordani       1     None  2012   \n",
       "33  154915.0  Teixeirichthys jordani       1     None  2012   \n",
       "\n",
       "                                             CITATION SOURCE DIST_COMM ISLAND  \\\n",
       "27  Red List Index (Sampled Approach), Zoological ...   None      None   None   \n",
       "28  Red List Index (Sampled Approach), Zoological ...   None      None   None   \n",
       "29  Red List Index (Sampled Approach), Zoological ...   None      None   None   \n",
       "30  Red List Index (Sampled Approach), Zoological ...   None      None   None   \n",
       "31  Red List Index (Sampled Approach), Zoological ...   None      None   None   \n",
       "32  Red List Index (Sampled Approach), Zoological ...   None      None   None   \n",
       "33  Red List Index (Sampled Approach), Zoological ...   None      None   None   \n",
       "\n",
       "   SUBSPECIES  ... KINGDOM_NA PHYLUM_NAM      CLASS_NAME   ORDER_NAME  \\\n",
       "27       None  ...   ANIMALIA   CHORDATA  ACTINOPTERYGII  PERCIFORMES   \n",
       "28       None  ...   ANIMALIA   CHORDATA  ACTINOPTERYGII  PERCIFORMES   \n",
       "29       None  ...   ANIMALIA   CHORDATA  ACTINOPTERYGII  PERCIFORMES   \n",
       "30       None  ...   ANIMALIA   CHORDATA  ACTINOPTERYGII  PERCIFORMES   \n",
       "31       None  ...   ANIMALIA   CHORDATA  ACTINOPTERYGII  PERCIFORMES   \n",
       "32       None  ...   ANIMALIA   CHORDATA  ACTINOPTERYGII  PERCIFORMES   \n",
       "33       None  ...   ANIMALIA   CHORDATA  ACTINOPTERYGII  PERCIFORMES   \n",
       "\n",
       "       FAMILY_NAM      GENUS_NAME SPECIES_NA CATEGORY  \\\n",
       "27  POMACENTRIDAE  Teixeirichthys    jordani       LC   \n",
       "28  POMACENTRIDAE  Teixeirichthys    jordani       LC   \n",
       "29  POMACENTRIDAE  Teixeirichthys    jordani       LC   \n",
       "30  POMACENTRIDAE  Teixeirichthys    jordani       LC   \n",
       "31  POMACENTRIDAE  Teixeirichthys    jordani       LC   \n",
       "32  POMACENTRIDAE  Teixeirichthys    jordani       LC   \n",
       "33  POMACENTRIDAE  Teixeirichthys    jordani       LC   \n",
       "\n",
       "                                             geometry       area  \n",
       "27  POLYGON ((121.6300326400001 33.04248618400004,...  38.671198  \n",
       "28  POLYGON ((32.56219482400007 29.97488975500005,...  37.445735  \n",
       "29  POLYGON ((130.9052090560001 34.02498196400006,...  16.939460  \n",
       "30  POLYGON ((56.32233070000007 -3.707270205999976...  10.126967  \n",
       "31  POLYGON ((40.64476131800006 -10.85502363999996...   7.760303  \n",
       "32  POLYGON ((48.11258402900006 -9.335103113999935...   3.434236  \n",
       "33  POLYGON ((51.75403543100003 -9.21679305899994,...   2.408620  \n",
       "\n",
       "[7 rows x 25 columns]"
      ]
     },
     "execution_count": 36,
     "metadata": {},
     "output_type": "execute_result"
    }
   ],
   "source": [
    "individual_fish"
   ]
  },
  {
   "cell_type": "code",
   "execution_count": 48,
   "metadata": {
    "ExecuteTime": {
     "end_time": "2019-05-10T22:41:37.242139Z",
     "start_time": "2019-05-10T22:41:37.237153Z"
    }
   },
   "outputs": [],
   "source": [
    "import os\n",
    "outFolder = r\"Data\"\n",
    "resultFolder = os.path.join(outFolder, 'Results')\n",
    "if not os.path.exists(resultFolder):\n",
    "    os.makedirs(resultFolder)"
   ]
  },
  {
   "cell_type": "code",
   "execution_count": 49,
   "metadata": {
    "ExecuteTime": {
     "end_time": "2019-05-10T22:41:55.109516Z",
     "start_time": "2019-05-10T22:41:49.756853Z"
    }
   },
   "outputs": [
    {
     "name": "stdout",
     "output_type": "stream",
     "text": [
      "Processing: Abudefduf concolor\n",
      "Processing: Abudefduf declivifrons\n",
      "Processing: Abudefduf troschelii\n",
      "Processing: Amphiprion sandaracinos\n",
      "Processing: Azurina eupalama\n",
      "Processing: Azurina hirundo\n",
      "Processing: Chromis alpha\n",
      "Processing: Chromis alta\n",
      "Processing: Chromis atrilobata\n",
      "Processing: Chromis crusma\n",
      "Processing: Chromis cyanea\n",
      "Processing: Chromis flavicauda\n",
      "Processing: Chromis intercrusma\n",
      "Processing: Chromis limbaughi\n",
      "Processing: Chromis pembae\n",
      "Processing: Chromis punctipinnis\n",
      "Processing: Chrysiptera flavipinnis\n",
      "Processing: Hypsypops rubicundus\n",
      "Processing: Microspathodon bairdii\n",
      "Processing: Microspathodon dorsalis\n",
      "Processing: Nexilosus latifrons\n",
      "Processing: Stegastes acapulcoensis\n",
      "Processing: Stegastes arcifrons\n",
      "Processing: Stegastes baldwini\n",
      "Processing: Stegastes beebei\n",
      "Processing: Stegastes flavilatus\n",
      "Processing: Stegastes leucorus\n",
      "Processing: Stegastes rectifraenum\n",
      "Processing: Stegastes redemptus\n",
      "Processing: Teixeirichthys jordani\n"
     ]
    }
   ],
   "source": [
    "for key, values in grouped:\n",
    "    # Format the filename (replace spaces with underscores)\n",
    "    outName = \"%s.shp\" % key.replace(\" \", \"_\")\n",
    "# Print some information for the user\n",
    "    print(\"Processing: %s\" % key)\n",
    "# Create an output path\n",
    "    outpath = os.path.join(resultFolder, outName)\n",
    "# Export the data\n",
    "    values.to_file(outpath)"
   ]
  }
 ],
 "metadata": {
  "kernelspec": {
   "display_name": "Python [conda env:py37]",
   "language": "python",
   "name": "conda-env-py37-py"
  },
  "language_info": {
   "codemirror_mode": {
    "name": "ipython",
    "version": 3
   },
   "file_extension": ".py",
   "mimetype": "text/x-python",
   "name": "python",
   "nbconvert_exporter": "python",
   "pygments_lexer": "ipython3",
   "version": "3.7.0"
  },
  "varInspector": {
   "cols": {
    "lenName": 16,
    "lenType": 16,
    "lenVar": 40
   },
   "kernels_config": {
    "python": {
     "delete_cmd_postfix": "",
     "delete_cmd_prefix": "del ",
     "library": "var_list.py",
     "varRefreshCmd": "print(var_dic_list())"
    },
    "r": {
     "delete_cmd_postfix": ") ",
     "delete_cmd_prefix": "rm(",
     "library": "var_list.r",
     "varRefreshCmd": "cat(var_dic_list()) "
    }
   },
   "position": {
    "height": "229.4px",
    "left": "1110.4px",
    "right": "20px",
    "top": "201px",
    "width": "366.4px"
   },
   "types_to_exclude": [
    "module",
    "function",
    "builtin_function_or_method",
    "instance",
    "_Feature"
   ],
   "window_display": true
  }
 },
 "nbformat": 4,
 "nbformat_minor": 2
}
