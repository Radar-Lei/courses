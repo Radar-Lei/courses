{
 "cells": [
  {
   "cell_type": "markdown",
   "metadata": {},
   "source": [
    "# Introduction to Geopandas\n",
    "\n",
    "\n",
    "## Downloading data\n",
    "\n",
    "For this lesson we are using data in Shapefile format representing distributions of specific beautifully colored fish species called [Damselfish](https://en.wikipedia.org/wiki/Damselfish) and the country borders of Europe. From now on, we are going to download the datafiles at the start of each lesson because of the large size of the data. It is also a good practice to know how to download files from terminal. \n",
    "\n",
    "On Binder and CSC Notebook environment, you can use `wget` programn to download the data. Let's download the [data](https://github.com/AutoGIS/data/raw/master/L2_data.zip) into folder `/home/jovyan/notebooks/L2` by running following commands in the Terminal ([see here](https://jupyterlab.readthedocs.io/en/stable/user/terminal.html) if you don't know how to launch a terminal):\n",
    "\n",
    "```\n",
    "# Change directory to directory with Lesson 2 materials\n",
    "$ cd /home/jovyan/notebooks/L2\n",
    "$ wget https://github.com/AutoGIS/data/raw/master/L2_data.zip\n",
    "    \n",
    "```\n",
    "*Hint: you can copy/paste things to JupyterLab Terminal by pressing SHIFT + RIGHT-CLICK on your mouse and choosing 'Paste'.*\n",
    "\n",
    "Once you have downloaded the `L2_data.zip` file into your home directory, you can unzip the file using `unzip` command from Terminal (or e.g. 7zip on Windows if working with own computer). Following assumes that the file was downloaded to `/home/jovyan/notebooks/L2` -directory:\n",
    "\n",
    "``` \n",
    "$ cd /home/jovyan/notebooks/L2\n",
    "$ unzip L2_data.zip\n",
    "$ ls L2_data\n",
    "DAMSELFISH_distributions.cpg  DAMSELFISH_distributions.shp  Europe_borders.dbf  Europe_borders.sbx\n",
    "DAMSELFISH_distributions.dbf  DAMSELFISH_distributions.shx  Europe_borders.prj  Europe_borders.shp\n",
    "DAMSELFISH_distributions.prj  Europe_borders.cpg            Europe_borders.sbn  Europe_borders.shx\n",
    "```\n",
    "\n",
    "\n",
    "As we can see, the `L2_data` folder includes Shapefiles called `DAMSELFISH_distribution.shp` and `Europe_borders.shp`. Notice that Shapefile -fileformat is constituted of many separate files such as `.dbf` that contains the attribute information, and `.prj` -file that contains information about coordinate reference system."
   ]
  },
  {
   "cell_type": "markdown",
   "metadata": {},
   "source": [
    "## Reading a Shapefile\n",
    "\n",
    "Typically reading the data into Python is the first step of the analysis pipeline. In GIS, there exists various dataformats such as [Shapefile](https://en.wikipedia.org/wiki/Shapefile), [GeoJSON](https://en.wikipedia.org/wiki/GeoJSON), [KML](https://en.wikipedia.org/wiki/Keyhole_Markup_Language), and [GPKG](https://en.wikipedia.org/wiki/GeoPackage) that are probably the most common vector data formats. [Geopandas](http://geopandas.org/io.html) is capable of reading data from all of these formats (plus many more). Reading spatial data can be done easily with geopandas using `gpd.from_file()` -function:"
   ]
  },
  {
   "cell_type": "code",
   "execution_count": 1,
   "metadata": {
    "ExecuteTime": {
     "end_time": "2019-08-09T15:14:58.668564Z",
     "start_time": "2019-08-09T15:14:48.712849Z"
    }
   },
   "outputs": [
    {
     "name": "stderr",
     "output_type": "stream",
     "text": [
      "Unable to open EPSG support file gcs.csv.  Try setting the GDAL_DATA environment variable to point to the directory containing EPSG csv files.\n"
     ]
    }
   ],
   "source": [
    "# Import necessary modules\n",
    "import geopandas as gpd\n",
    "\n",
    "# Set filepath \n",
    "fp = \"L2_data/DAMSELFISH_distributions.shp\"\n",
    "\n",
    "# Read file using gpd.read_file()\n",
    "data = gpd.read_file(fp)"
   ]
  },
  {
   "cell_type": "markdown",
   "metadata": {},
   "source": [
    "Now we read the data from a Shapefile into variable `data`. \n",
    "\n",
    "- Let's see check the data type of it"
   ]
  },
  {
   "cell_type": "code",
   "execution_count": 2,
   "metadata": {
    "ExecuteTime": {
     "end_time": "2019-08-09T15:15:18.121081Z",
     "start_time": "2019-08-09T15:15:18.112359Z"
    }
   },
   "outputs": [
    {
     "data": {
      "text/plain": [
       "geopandas.geodataframe.GeoDataFrame"
      ]
     },
     "execution_count": 2,
     "metadata": {},
     "output_type": "execute_result"
    }
   ],
   "source": [
    "type(data)"
   ]
  },
  {
   "cell_type": "markdown",
   "metadata": {},
   "source": [
    "Okey so from the above we can see that our `data` -variable is a `GeoDataFrame`. GeoDataFrame extends the functionalities of\n",
    "`pandas.DataFrame` in a way that it is possible to use and handle spatial data using similar approaches and datastructures as in Pandas (hence the name geopandas). GeoDataFrame have some special features and functions that are useful in GIS.\n",
    "\n",
    "- Let's take a look at our data and print the first 2 rows using the `head()` -function:"
   ]
  },
  {
   "cell_type": "code",
   "execution_count": 3,
   "metadata": {
    "ExecuteTime": {
     "end_time": "2019-08-09T15:16:05.848634Z",
     "start_time": "2019-08-09T15:16:05.812294Z"
    }
   },
   "outputs": [
    {
     "name": "stdout",
     "output_type": "stream",
     "text": [
      "      ID_NO            BINOMIAL  ORIGIN COMPILER  YEAR  \\\n",
      "0  183963.0  Stegastes leucorus       1     IUCN  2010   \n",
      "1  183963.0  Stegastes leucorus       1     IUCN  2010   \n",
      "\n",
      "                                            CITATION SOURCE DIST_COMM ISLAND  \\\n",
      "0  International Union for Conservation of Nature...   None      None   None   \n",
      "1  International Union for Conservation of Nature...   None      None   None   \n",
      "\n",
      "  SUBSPECIES  ... RL_UPDATE KINGDOM_NA  PHYLUM_NAM      CLASS_NAME  \\\n",
      "0       None  ...    2012.1   ANIMALIA    CHORDATA  ACTINOPTERYGII   \n",
      "1       None  ...    2012.1   ANIMALIA    CHORDATA  ACTINOPTERYGII   \n",
      "\n",
      "    ORDER_NAME     FAMILY_NAM GENUS_NAME SPECIES_NA CATEGORY  \\\n",
      "0  PERCIFORMES  POMACENTRIDAE  Stegastes   leucorus       VU   \n",
      "1  PERCIFORMES  POMACENTRIDAE  Stegastes   leucorus       VU   \n",
      "\n",
      "                                            geometry  \n",
      "0  POLYGON ((-115.6437454219999 29.71392059300007...  \n",
      "1  POLYGON ((-105.589950704 21.89339825500002, -1...  \n",
      "\n",
      "[2 rows x 24 columns]\n"
     ]
    }
   ],
   "source": [
    "print(data.head(2))"
   ]
  },
  {
   "cell_type": "code",
   "execution_count": 4,
   "metadata": {
    "ExecuteTime": {
     "end_time": "2019-08-09T15:16:51.078031Z",
     "start_time": "2019-08-09T15:16:51.071782Z"
    }
   },
   "outputs": [
    {
     "data": {
      "text/plain": [
       "ID_NO         float64\n",
       "BINOMIAL       object\n",
       "ORIGIN          int64\n",
       "COMPILER       object\n",
       "YEAR            int64\n",
       "CITATION       object\n",
       "SOURCE         object\n",
       "DIST_COMM      object\n",
       "ISLAND         object\n",
       "SUBSPECIES     object\n",
       "SUBPOP         object\n",
       "LEGEND         object\n",
       "SEASONAL        int64\n",
       "TAX_COMM       object\n",
       "RL_UPDATE     float64\n",
       "KINGDOM_NA     object\n",
       "PHYLUM_NAM     object\n",
       "CLASS_NAME     object\n",
       "ORDER_NAME     object\n",
       "FAMILY_NAM     object\n",
       "GENUS_NAME     object\n",
       "SPECIES_NA     object\n",
       "CATEGORY       object\n",
       "geometry       object\n",
       "dtype: object"
      ]
     },
     "execution_count": 4,
     "metadata": {},
     "output_type": "execute_result"
    }
   ],
   "source": [
    "data.dtypes"
   ]
  },
  {
   "cell_type": "markdown",
   "metadata": {},
   "source": [
    "As we can see, there exists multiple columns in our data related to our Damselfish -fish.\n",
    "\n",
    "When having spatial data, it is always a good idea to explore your data on a map. Creating a simple map from a `GeoDataFrame` is really easy: you can use ``.plot()`` -function from geopandas that creates a map based on the geometries of the data. Geopandas actually uses Matplotlib for creating the map that was introduced in [Lesson 7 of Geo-Python course](https://geo-python.github.io/2018/notebooks/L7/matplotlib.html).\n",
    "\n",
    "- Let's try it out, and take a look how our data looks like on a map:"
   ]
  },
  {
   "cell_type": "code",
   "execution_count": 5,
   "metadata": {
    "ExecuteTime": {
     "end_time": "2019-08-09T15:17:04.851220Z",
     "start_time": "2019-08-09T15:17:00.935822Z"
    }
   },
   "outputs": [
    {
     "data": {
      "text/plain": [
       "<matplotlib.axes._subplots.AxesSubplot at 0x252db7ff588>"
      ]
     },
     "execution_count": 5,
     "metadata": {},
     "output_type": "execute_result"
    },
    {
     "data": {
      "image/png": "[encoded data removed]",
      "text/plain": [
       "<Figure size 432x288 with 1 Axes>"
      ]
     },
     "metadata": {
      "needs_background": "light"
     },
     "output_type": "display_data"
    }
   ],
   "source": [
    "%matplotlib inline\n",
    "data.plot()"
   ]
  },
  {
   "cell_type": "markdown",
   "metadata": {},
   "source": [
    "Voilá! As we can see, it is really easy to produce a map out of your Shapefile with geopandas. Geopandas automatically positions your map in a way that it covers the whole extent of your data."
   ]
  },
  {
   "cell_type": "markdown",
   "metadata": {},
   "source": [
    "## Writing a Shapefile\n",
    "\n",
    "Writing the spatial data into disk for example as a new Shapefile is also something that is needed frequently.\n",
    "\n",
    "- Let's select 50 first rows of the input data and write those into a new Shapefile by first selecting the data using index slicing and\n",
    "then write the selection into a Shapefile with ``gpd.to_file()`` -function:\n"
   ]
  },
  {
   "cell_type": "code",
   "execution_count": 7,
   "metadata": {
    "ExecuteTime": {
     "end_time": "2019-08-09T15:20:09.578188Z",
     "start_time": "2019-08-09T15:20:07.997492Z"
    }
   },
   "outputs": [],
   "source": [
    "# Create a output path for the data\n",
    "outfp = \"L2_data/DAMSELFISH_distributions_SELECTION.shp\"\n",
    "\n",
    "# Select first 50 rows\n",
    "selection = data[0:50]\n",
    "\n",
    "# Write those rows into a new Shapefile (the default output file format is Shapefile)\n",
    "selection.to_file(outfp)"
   ]
  },
  {
   "cell_type": "markdown",
   "metadata": {},
   "source": [
    "**TASK:** Read the newly created Shapefile with geopandas, and see how the data looks like."
   ]
  },
  {
   "cell_type": "markdown",
   "metadata": {},
   "source": [
    "## Geometries in Geopandas\n",
    "\n",
    "Geopandas takes advantage of Shapely's geometric objects. Geometries are stored in a column called *geometry* that is a default column name for\n",
    "storing geometric information in geopandas.\n",
    "\n",
    "-  Let's print the first 5 rows of the column 'geometry':"
   ]
  },
  {
   "cell_type": "code",
   "execution_count": 8,
   "metadata": {
    "ExecuteTime": {
     "end_time": "2019-08-09T15:21:08.177676Z",
     "start_time": "2019-08-09T15:21:07.836398Z"
    }
   },
   "outputs": [
    {
     "name": "stdout",
     "output_type": "stream",
     "text": [
      "0    POLYGON ((-115.6437454219999 29.71392059300007...\n",
      "1    POLYGON ((-105.589950704 21.89339825500002, -1...\n",
      "2    POLYGON ((-111.159618439 19.01535626700007, -1...\n",
      "3    POLYGON ((-80.86500229899997 -0.77894492099994...\n",
      "4    POLYGON ((-67.33922225599997 -55.6761029239999...\n",
      "Name: geometry, dtype: object\n"
     ]
    }
   ],
   "source": [
    "# It is possible to get a specific column by specifying the column name within square brackets []\n",
    "print(data['geometry'].head())"
   ]
  },
  {
   "cell_type": "markdown",
   "metadata": {},
   "source": [
    "As we can see the `geometry` column contains familiar looking values, namely Shapely `Polygon` -objects that we [learned to use last week](https://automating-gis-processes.github.io/2018/notebooks/L1/geometric-objects.html#Polygon). Since the spatial data is stored as Shapely objects, **it is possible to use all of the functionalities of Shapely module**.\n",
    "\n",
    "- Let's prove that this really is the case by iterating over a sample of the data, and printing the `area` of first five polygons. \n",
    "\n",
    "  - We can iterate over the rows by using the `iterrows()` -function that we learned [during the Lesson 6 of the Geo-Python course](https://geo-python.github.io/2018/notebooks/L6/pandas/advanced-data-processing-with-pandas.html#Iterating-rows-and-using-self-made-functions-in-Pandas)."
   ]
  },
  {
   "cell_type": "code",
   "execution_count": 9,
   "metadata": {
    "ExecuteTime": {
     "end_time": "2019-08-09T15:22:14.967816Z",
     "start_time": "2019-08-09T15:22:14.960756Z"
    }
   },
   "outputs": [
    {
     "name": "stdout",
     "output_type": "stream",
     "text": [
      "Polygon area at index 0 is: 19.396\n",
      "Polygon area at index 1 is: 6.146\n",
      "Polygon area at index 2 is: 2.697\n",
      "Polygon area at index 3 is: 87.461\n",
      "Polygon area at index 4 is: 0.001\n"
     ]
    }
   ],
   "source": [
    "# Make a selection that contains only the first five rows\n",
    "selection = data[0:5]\n",
    "\n",
    "# Iterate over rows and print the area of a Polygon\n",
    "for index, row in selection.iterrows():\n",
    "    # Get the area of the polygon\n",
    "    poly_area = row['geometry'].area\n",
    "    # Print information for the user\n",
    "    print(\"Polygon area at index {index} is: {area:.3f}\".format(index=index, area=poly_area))"
   ]
  },
  {
   "cell_type": "markdown",
   "metadata": {},
   "source": [
    "As you might guess from here, all the functionalities of **Pandas**, such as the `iterrows()` function, are directly available in Geopandas without the need to call pandas separately because Geopandas is an **extension** for Pandas. \n",
    "\n",
    "- Let's next create a new column into our GeoDataFrame where we calculate and store the areas of individual polygons into that column. Calculating the areas of polygons is really easy in geopandas by using ``GeoDataFrame.area`` attribute. Hence, it is not needed to actually iterate over the rows line by line as we did previously:"
   ]
  },
  {
   "cell_type": "code",
   "execution_count": 10,
   "metadata": {
    "ExecuteTime": {
     "end_time": "2019-08-09T15:26:21.857587Z",
     "start_time": "2019-08-09T15:26:21.843520Z"
    }
   },
   "outputs": [
    {
     "name": "stdout",
     "output_type": "stream",
     "text": [
      "0    19.396254\n",
      "1     6.145902\n",
      "Name: area, dtype: float64\n"
     ]
    }
   ],
   "source": [
    "# Create a new column called 'area' and assign the area of the Polygons into it\n",
    "data['area'] = data.area\n",
    "\n",
    "# Print first 2 rows of the area column\n",
    "print(data['area'].head(2))"
   ]
  },
  {
   "cell_type": "markdown",
   "metadata": {},
   "source": [
    "As we can see, the area of our first polygon seems to be approximately `19.396` and `6.146` for the second polygon. They correspond to the ones we saw in previous step when iterating rows, hence, everything seems to work as should.\n",
    "\n",
    "- Let's check what is the `min`, `max` and `mean` of those areas using familiar functions from our previous Pandas lessions.\n"
   ]
  },
  {
   "cell_type": "code",
   "execution_count": 11,
   "metadata": {
    "ExecuteTime": {
     "end_time": "2019-08-09T15:27:02.831306Z",
     "start_time": "2019-08-09T15:27:02.827328Z"
    }
   },
   "outputs": [
    {
     "name": "stdout",
     "output_type": "stream",
     "text": [
      "Max area: 1493.2\n",
      "Min area: 0.0\n",
      "Mean area: 19.96\n"
     ]
    }
   ],
   "source": [
    "# Maximum area\n",
    "max_area = data['area'].max()\n",
    "\n",
    "# Minimum area\n",
    "min_area = data['area'].min()\n",
    "\n",
    "# Mean area\n",
    "mean_area = data['area'].mean()\n",
    "\n",
    "print(\"Max area: {max}\\nMin area: {min}\\nMean area: {mean}\".format(max=round(max_area, 2), min=round(min_area, 2), mean=round(mean_area, 2)))"
   ]
  },
  {
   "cell_type": "markdown",
   "metadata": {},
   "source": [
    "The largest Polygon in our dataset seems to be around 1494 square decimal degrees (~ 165 000 km2) and the average size is ~20 square decimal degrees (~2200 km2). The minimum polygon size seems to be `0.0`, hence it seems that there exists really small polygons in the data as well (rounds to 0 with 2 decimals). "
   ]
  },
  {
   "cell_type": "markdown",
   "metadata": {},
   "source": [
    "## Creating geometries into a GeoDataFrame\n",
    "\n",
    "Since geopandas takes advantage of Shapely geometric objects, it is possible to create a Shapefile from a scratch by passing Shapely's\n",
    "geometric objects into the GeoDataFrame. This is useful as it makes it easy to convert e.g. a text file that contains coordinates into a\n",
    "Shapefile. Next we will see how to create a Shapefile from scratch. \n",
    "\n",
    "- Let's create an empty `GeoDataFrame`."
   ]
  },
  {
   "cell_type": "code",
   "execution_count": 12,
   "metadata": {
    "ExecuteTime": {
     "end_time": "2019-08-09T15:29:15.868471Z",
     "start_time": "2019-08-09T15:29:15.861024Z"
    }
   },
   "outputs": [
    {
     "name": "stdout",
     "output_type": "stream",
     "text": [
      "Empty GeoDataFrame\n",
      "Columns: []\n",
      "Index: []\n"
     ]
    }
   ],
   "source": [
    "# Import necessary modules first\n",
    "import geopandas as gpd\n",
    "from shapely.geometry import Point, Polygon\n",
    "\n",
    "# Create an empty geopandas GeoDataFrame\n",
    "newdata = gpd.GeoDataFrame()\n",
    "\n",
    "# Let's see what we have at the moment\n",
    "print(newdata)"
   ]
  },
  {
   "cell_type": "markdown",
   "metadata": {},
   "source": [
    "As we can see, the GeoDataFrame is empty since we haven't yet stored any data into it.\n",
    "\n",
    "- Let's create a new column called `geometry` that will contain our Shapely objects:"
   ]
  },
  {
   "cell_type": "code",
   "execution_count": 13,
   "metadata": {
    "ExecuteTime": {
     "end_time": "2019-08-09T15:29:20.480784Z",
     "start_time": "2019-08-09T15:29:20.473911Z"
    }
   },
   "outputs": [
    {
     "name": "stdout",
     "output_type": "stream",
     "text": [
      "Empty GeoDataFrame\n",
      "Columns: [geometry]\n",
      "Index: []\n"
     ]
    }
   ],
   "source": [
    "# Create a new column called 'geometry' to the GeoDataFrame\n",
    "newdata['geometry'] = None\n",
    "\n",
    "# Let's again see what's inside\n",
    "print(newdata)"
   ]
  },
  {
   "cell_type": "markdown",
   "metadata": {},
   "source": [
    "Now we have a `geometry` column in our GeoDataFrame but we don't have any data stored yet.\n",
    "\n",
    "- Let's create a Shapely `Polygon` repsenting the Helsinki Senate square that we can later insert to our GeoDataFrame:"
   ]
  },
  {
   "cell_type": "code",
   "execution_count": 14,
   "metadata": {
    "ExecuteTime": {
     "end_time": "2019-08-09T15:29:25.084357Z",
     "start_time": "2019-08-09T15:29:25.080356Z"
    }
   },
   "outputs": [
    {
     "name": "stdout",
     "output_type": "stream",
     "text": [
      "POLYGON ((24.950899 60.169158, 24.953492 60.169158, 24.95351 60.170104, 24.950958 60.16999, 24.950899 60.169158))\n"
     ]
    }
   ],
   "source": [
    "# Coordinates of the Helsinki Senate square in Decimal Degrees\n",
    "coordinates = [(24.950899, 60.169158), (24.953492, 60.169158), (24.953510, 60.170104), (24.950958, 60.169990)]\n",
    "\n",
    "# Create a Shapely polygon from the coordinate-tuple list\n",
    "poly = Polygon(coordinates)\n",
    "\n",
    "# Let's see what we have\n",
    "print(poly)"
   ]
  },
  {
   "cell_type": "markdown",
   "metadata": {},
   "source": [
    "Okay, now we have an appropriate `Polygon` -object.\n",
    "\n",
    "- Let's insert the polygon into our 'geometry' column of our GeoDataFrame at position 0:"
   ]
  },
  {
   "cell_type": "code",
   "execution_count": 15,
   "metadata": {
    "ExecuteTime": {
     "end_time": "2019-08-09T15:30:32.649769Z",
     "start_time": "2019-08-09T15:30:32.577804Z"
    }
   },
   "outputs": [
    {
     "name": "stdout",
     "output_type": "stream",
     "text": [
      "                                            geometry\n",
      "0  POLYGON ((24.950899 60.169158, 24.953492 60.16...\n"
     ]
    }
   ],
   "source": [
    "# Insert the polygon into 'geometry' -column at index 0\n",
    "newdata.loc[0, 'geometry'] = poly\n",
    "\n",
    "# Let's see what we have now\n",
    "print(newdata)"
   ]
  },
  {
   "cell_type": "markdown",
   "metadata": {},
   "source": [
    "Great, now we have a GeoDataFrame with a Polygon that we could already now export to a Shapefile. However, typically you might want to include some useful information with your geometry. \n",
    "\n",
    "- Hence, let's add another column to our GeoDataFrame called `location` with text `Senaatintori` that describes the location of the feature."
   ]
  },
  {
   "cell_type": "code",
   "execution_count": 16,
   "metadata": {
    "ExecuteTime": {
     "end_time": "2019-08-09T15:34:46.309465Z",
     "start_time": "2019-08-09T15:34:46.298094Z"
    }
   },
   "outputs": [
    {
     "name": "stdout",
     "output_type": "stream",
     "text": [
      "                                            geometry      location\n",
      "0  POLYGON ((24.950899 60.169158, 24.953492 60.16...  Senaatintori\n"
     ]
    }
   ],
   "source": [
    "# Add a new column and insert data \n",
    "newdata.loc[0, 'location'] = 'Senaatintori'\n",
    "\n",
    "# Let's check the data\n",
    "print(newdata)"
   ]
  },
  {
   "cell_type": "markdown",
   "metadata": {},
   "source": [
    "Okay, now we have additional information that is useful for recognicing what the feature represents. \n",
    "\n",
    "Before exporting the data it is always good (basically necessary) to **determine the coordinate reference system (projection) for the GeoDataFrame.** GeoDataFrame has an attribute called `.crs` that shows the coordinate system of the data which is empty (None) in our case since we are creating the data from the scratch (more about projection on next tutorial):"
   ]
  },
  {
   "cell_type": "code",
   "execution_count": 17,
   "metadata": {
    "ExecuteTime": {
     "end_time": "2019-08-09T15:34:52.132932Z",
     "start_time": "2019-08-09T15:34:52.126914Z"
    }
   },
   "outputs": [
    {
     "name": "stdout",
     "output_type": "stream",
     "text": [
      "None\n"
     ]
    }
   ],
   "source": [
    "print(newdata.crs)"
   ]
  },
  {
   "cell_type": "markdown",
   "metadata": {},
   "source": [
    "-  Let's add a crs for our GeoDataFrame. A Python module called **fiona** has a nice function called ``from_epsg()`` for passing the coordinate reference system information for the GeoDataFrame. Next we will use that and determine the projection to WGS84 (epsg code: 4326):"
   ]
  },
  {
   "cell_type": "code",
   "execution_count": 18,
   "metadata": {
    "ExecuteTime": {
     "end_time": "2019-08-09T15:37:25.451458Z",
     "start_time": "2019-08-09T15:37:25.447363Z"
    }
   },
   "outputs": [
    {
     "name": "stdout",
     "output_type": "stream",
     "text": [
      "{'init': 'epsg:4326', 'no_defs': True}\n"
     ]
    }
   ],
   "source": [
    "# Import specific function 'from_epsg' from fiona module\n",
    "from fiona.crs import from_epsg\n",
    "\n",
    "# Set the GeoDataFrame's coordinate system to WGS84 (i.e. epsg code 4326)\n",
    "newdata.crs = from_epsg(4326)\n",
    "\n",
    "# Let's see how the crs definition looks like\n",
    "print(newdata.crs)"
   ]
  },
  {
   "cell_type": "markdown",
   "metadata": {},
   "source": [
    "As we can see, now we have associated coordinate reference system information (i.e. `CRS`) into our `GeoDataFrame`. The CRS information here, is a Python `dictionary` containing necessary values for geopandas to create a `.prj` file for our Shapefile that contains the CRS info. \n",
    "\n",
    "-  Finally, we can export the GeoDataFrame using `.to_file()` -function. The function works quite similarly as the export functions in numpy or pandas, but here we only need to provide the output path for the Shapefile. Easy isn't it!:"
   ]
  },
  {
   "cell_type": "code",
   "execution_count": 19,
   "metadata": {
    "ExecuteTime": {
     "end_time": "2019-08-09T15:44:05.479586Z",
     "start_time": "2019-08-09T15:44:05.382982Z"
    }
   },
   "outputs": [],
   "source": [
    "# Determine the output path for the Shapefile\n",
    "outfp = \"L2_data/Senaatintori.shp\"\n",
    "\n",
    "# Write the data into that Shapefile\n",
    "newdata.to_file(outfp)"
   ]
  },
  {
   "cell_type": "markdown",
   "metadata": {},
   "source": [
    "Now we have successfully created a Shapefile from the scratch using only Python programming. Similar approach can be used to for example to read\n",
    "coordinates from a text file (e.g. points) and create Shapefiles from those automatically.\n",
    "\n",
    "**TASK:** Check the output Shapefile by reading it with geopandas and make sure that the attribute table and geometry seems correct."
   ]
  },
  {
   "cell_type": "markdown",
   "metadata": {},
   "source": [
    "## Practical example: Saving multiple Shapefiles\n",
    "\n",
    "One really useful function that can be used in Pandas/Geopandas is [.groupby()](http://pandas.pydata.org/pandas-docs/stable/generated/pandas.DataFrame.groupby.html). We saw and used this function already in [Lesson 6 of the Geo-Python course](https://geo-python.github.io/2018/notebooks/L6/pandas/advanced-data-processing-with-pandas.html#Aggregating-data-in-Pandas-by-grouping). Group by function is useful to group data based on values on selected column(s).\n",
    "\n",
    "Next we will take a practical example by automating the file export task. We will group individual fish subspecies in our `DAMSELFISH_distribution.shp` and export those into separate Shapefiles.\n",
    "\n",
    "- Let's start from scratch and read the Shapefile into GeoDataFrame\n"
   ]
  },
  {
   "cell_type": "code",
   "execution_count": 37,
   "metadata": {},
   "outputs": [
    {
     "name": "stdout",
     "output_type": "stream",
     "text": [
      "Index(['ID_NO', 'BINOMIAL', 'ORIGIN', 'COMPILER', 'YEAR', 'CITATION', 'SOURCE',\n",
      "       'DIST_COMM', 'ISLAND', 'SUBSPECIES', 'SUBPOP', 'LEGEND', 'SEASONAL',\n",
      "       'TAX_COMM', 'RL_UPDATE', 'KINGDOM_NA', 'PHYLUM_NAM', 'CLASS_NAME',\n",
      "       'ORDER_NAME', 'FAMILY_NAM', 'GENUS_NAME', 'SPECIES_NA', 'CATEGORY',\n",
      "       'geometry'],\n",
      "      dtype='object')\n"
     ]
    }
   ],
   "source": [
    "# Read Damselfish data\n",
    "fp = \"L2_data/DAMSELFISH_distributions.shp\"\n",
    "data = gpd.read_file(fp)\n",
    "\n",
    "# Print columns\n",
    "print(data.columns)"
   ]
  },
  {
   "cell_type": "markdown",
   "metadata": {},
   "source": [
    "The `BINOMIAL` column in the data contains information about different fish subspecies (their latin name). With `.unique()` -function we can quickly see all different names in that column:"
   ]
  },
  {
   "cell_type": "code",
   "execution_count": 38,
   "metadata": {},
   "outputs": [
    {
     "name": "stdout",
     "output_type": "stream",
     "text": [
      "['Stegastes leucorus' 'Chromis intercrusma' 'Stegastes beebei'\n",
      " 'Stegastes rectifraenum' 'Chromis punctipinnis' 'Chromis crusma'\n",
      " 'Chromis pembae' 'Stegastes redemptus' 'Teixeirichthys jordani'\n",
      " 'Chromis limbaughi' 'Microspathodon dorsalis' 'Chromis cyanea'\n",
      " 'Amphiprion sandaracinos' 'Nexilosus latifrons' 'Stegastes baldwini'\n",
      " 'Microspathodon bairdii' 'Azurina eupalama' 'Chromis flavicauda'\n",
      " 'Stegastes arcifrons' 'Chromis alta' 'Abudefduf declivifrons'\n",
      " 'Chromis alpha' 'Stegastes flavilatus' 'Abudefduf concolor'\n",
      " 'Abudefduf troschelii' 'Chrysiptera flavipinnis' 'Chromis atrilobata'\n",
      " 'Stegastes acapulcoensis' 'Hypsypops rubicundus' 'Azurina hirundo']\n"
     ]
    }
   ],
   "source": [
    "# Print all unique fish subspecies in 'BINOMIAL' column\n",
    "print(data['BINOMIAL'].unique())"
   ]
  },
  {
   "cell_type": "markdown",
   "metadata": {},
   "source": [
    "- Now we can use that information to group our data and save all individual fish subspecies as separate Shapefiles:"
   ]
  },
  {
   "cell_type": "code",
   "execution_count": 39,
   "metadata": {},
   "outputs": [
    {
     "data": {
      "text/plain": [
       "<pandas.core.groupby.groupby.DataFrameGroupBy object at 0x0000018FF1F87208>"
      ]
     },
     "execution_count": 39,
     "metadata": {},
     "output_type": "execute_result"
    }
   ],
   "source": [
    "# Group the data by column 'BINOMIAL'\n",
    "grouped = data.groupby('BINOMIAL')\n",
    "\n",
    "# Let's see what we have\n",
    "grouped"
   ]
  },
  {
   "cell_type": "markdown",
   "metadata": {},
   "source": [
    "As we can see, `groupby` -function gives us an object called `DataFrameGroupBy` which is similar to list of keys and values (in a dictionary) that we can iterate over. This is again exactly similar thing that we already practiced during [Lesson 6 of the Geo-Python course](https://geo-python.github.io/2018/notebooks/L6/pandas/advanced-data-processing-with-pandas.html#Aggregating-data-in-Pandas-by-grouping).\n",
    "\n",
    "- Let's iterate over the groups and see what our variables `key` and `values` contain"
   ]
  },
  {
   "cell_type": "code",
   "execution_count": 41,
   "metadata": {},
   "outputs": [
    {
     "name": "stdout",
     "output_type": "stream",
     "text": [
      "Key: Teixeirichthys jordani\n",
      "       ID_NO                BINOMIAL  ORIGIN COMPILER  YEAR  \\\n",
      "27  154915.0  Teixeirichthys jordani       1     None  2012   \n",
      "28  154915.0  Teixeirichthys jordani       1     None  2012   \n",
      "29  154915.0  Teixeirichthys jordani       1     None  2012   \n",
      "30  154915.0  Teixeirichthys jordani       1     None  2012   \n",
      "31  154915.0  Teixeirichthys jordani       1     None  2012   \n",
      "32  154915.0  Teixeirichthys jordani       1     None  2012   \n",
      "33  154915.0  Teixeirichthys jordani       1     None  2012   \n",
      "\n",
      "                                             CITATION SOURCE DIST_COMM ISLAND  \\\n",
      "27  Red List Index (Sampled Approach), Zoological ...   None      None   None   \n",
      "28  Red List Index (Sampled Approach), Zoological ...   None      None   None   \n",
      "29  Red List Index (Sampled Approach), Zoological ...   None      None   None   \n",
      "30  Red List Index (Sampled Approach), Zoological ...   None      None   None   \n",
      "31  Red List Index (Sampled Approach), Zoological ...   None      None   None   \n",
      "32  Red List Index (Sampled Approach), Zoological ...   None      None   None   \n",
      "33  Red List Index (Sampled Approach), Zoological ...   None      None   None   \n",
      "\n",
      "   SUBSPECIES                        ...                         RL_UPDATE  \\\n",
      "27       None                        ...                            2012.2   \n",
      "28       None                        ...                            2012.2   \n",
      "29       None                        ...                            2012.2   \n",
      "30       None                        ...                            2012.2   \n",
      "31       None                        ...                            2012.2   \n",
      "32       None                        ...                            2012.2   \n",
      "33       None                        ...                            2012.2   \n",
      "\n",
      "   KINGDOM_NA  PHYLUM_NAM      CLASS_NAME   ORDER_NAME     FAMILY_NAM  \\\n",
      "27   ANIMALIA    CHORDATA  ACTINOPTERYGII  PERCIFORMES  POMACENTRIDAE   \n",
      "28   ANIMALIA    CHORDATA  ACTINOPTERYGII  PERCIFORMES  POMACENTRIDAE   \n",
      "29   ANIMALIA    CHORDATA  ACTINOPTERYGII  PERCIFORMES  POMACENTRIDAE   \n",
      "30   ANIMALIA    CHORDATA  ACTINOPTERYGII  PERCIFORMES  POMACENTRIDAE   \n",
      "31   ANIMALIA    CHORDATA  ACTINOPTERYGII  PERCIFORMES  POMACENTRIDAE   \n",
      "32   ANIMALIA    CHORDATA  ACTINOPTERYGII  PERCIFORMES  POMACENTRIDAE   \n",
      "33   ANIMALIA    CHORDATA  ACTINOPTERYGII  PERCIFORMES  POMACENTRIDAE   \n",
      "\n",
      "        GENUS_NAME SPECIES_NA CATEGORY  \\\n",
      "27  Teixeirichthys    jordani       LC   \n",
      "28  Teixeirichthys    jordani       LC   \n",
      "29  Teixeirichthys    jordani       LC   \n",
      "30  Teixeirichthys    jordani       LC   \n",
      "31  Teixeirichthys    jordani       LC   \n",
      "32  Teixeirichthys    jordani       LC   \n",
      "33  Teixeirichthys    jordani       LC   \n",
      "\n",
      "                                             geometry  \n",
      "27  POLYGON ((121.6300326400001 33.04248618400004,...  \n",
      "28  POLYGON ((32.56219482400007 29.97488975500005,...  \n",
      "29  POLYGON ((130.9052090560001 34.02498196400006,...  \n",
      "30  POLYGON ((56.32233070000007 -3.707270205999976...  \n",
      "31  POLYGON ((40.64476131800006 -10.85502363999996...  \n",
      "32  POLYGON ((48.11258402900006 -9.335103113999935...  \n",
      "33  POLYGON ((51.75403543100003 -9.21679305899994,...  \n",
      "\n",
      "[7 rows x 24 columns]\n"
     ]
    }
   ],
   "source": [
    "# Iterate over the group object\n",
    "for key, values in grouped:\n",
    "    individual_fish = values\n",
    "\n",
    "# Let's see what is the LAST item and key that we iterated\n",
    "print('Key:', key)\n",
    "print(individual_fish)"
   ]
  },
  {
   "cell_type": "markdown",
   "metadata": {},
   "source": [
    "From here we can see that the `individual_fish` -variable contains all the rows that belongs to a fish called `Teixeirichthys jordani` that is the `key` for conducting the grouping. Notice that the index numbers refer to the row numbers in the original data -GeoDataFrame.\n",
    "\n",
    "- Let's check the datatype of the grouped object:"
   ]
  },
  {
   "cell_type": "code",
   "execution_count": 42,
   "metadata": {},
   "outputs": [
    {
     "data": {
      "text/plain": [
       "geopandas.geodataframe.GeoDataFrame"
      ]
     },
     "execution_count": 42,
     "metadata": {},
     "output_type": "execute_result"
    }
   ],
   "source": [
    "type(individual_fish)"
   ]
  },
  {
   "cell_type": "markdown",
   "metadata": {},
   "source": [
    "As we can see, each set of data are now grouped into separate GeoDataFrames that we can export into Shapefiles using the variable `key`\n",
    "for creating the output filename. Next, we use a specific string formatting method to produce the output filename using `% operator` ([read more here]( https://www.learnpython.org/en/String_Formatting)).\n",
    "\n",
    "- Let's now export all individual subspecies into separate Shapefiles:"
   ]
  },
  {
   "cell_type": "code",
   "execution_count": 45,
   "metadata": {},
   "outputs": [
    {
     "name": "stdout",
     "output_type": "stream",
     "text": [
      "Processing: Abudefduf concolor\n",
      "Processing: Abudefduf declivifrons\n",
      "Processing: Abudefduf troschelii\n",
      "Processing: Amphiprion sandaracinos\n",
      "Processing: Azurina eupalama\n",
      "Processing: Azurina hirundo\n",
      "Processing: Chromis alpha\n",
      "Processing: Chromis alta\n",
      "Processing: Chromis atrilobata\n",
      "Processing: Chromis crusma\n",
      "Processing: Chromis cyanea\n",
      "Processing: Chromis flavicauda\n",
      "Processing: Chromis intercrusma\n",
      "Processing: Chromis limbaughi\n",
      "Processing: Chromis pembae\n",
      "Processing: Chromis punctipinnis\n",
      "Processing: Chrysiptera flavipinnis\n",
      "Processing: Hypsypops rubicundus\n",
      "Processing: Microspathodon bairdii\n",
      "Processing: Microspathodon dorsalis\n",
      "Processing: Nexilosus latifrons\n",
      "Processing: Stegastes acapulcoensis\n",
      "Processing: Stegastes arcifrons\n",
      "Processing: Stegastes baldwini\n",
      "Processing: Stegastes beebei\n",
      "Processing: Stegastes flavilatus\n",
      "Processing: Stegastes leucorus\n",
      "Processing: Stegastes rectifraenum\n",
      "Processing: Stegastes redemptus\n",
      "Processing: Teixeirichthys jordani\n"
     ]
    }
   ],
   "source": [
    "# Import os -module that is useful for parsing filepaths\n",
    "import os\n",
    "\n",
    "# Determine output directory\n",
    "out_directory = \"L2_data\"\n",
    "\n",
    "# Create a new folder called 'Results' \n",
    "result_folder = os.path.join(out_directory, 'Results')\n",
    "\n",
    "# Check if the folder exists already\n",
    "if not os.path.exists(result_folder):\n",
    "    # If it does not exist, create one\n",
    "    os.makedirs(result_folder)\n",
    "\n",
    "# Iterate over the groups\n",
    "for key, values in grouped:\n",
    "    # Format the filename (replace spaces with underscores using 'replace()' -function)\n",
    "    output_name = \"%s.shp\" % key.replace(\" \", \"_\")\n",
    "\n",
    "    # Print some information for the user\n",
    "    print(\"Processing: %s\" % key)\n",
    "\n",
    "    # Create an output path\n",
    "    outpath = os.path.join(result_folder, output_name)\n",
    "\n",
    "    # Export the data\n",
    "    values.to_file(outpath)"
   ]
  },
  {
   "cell_type": "markdown",
   "metadata": {},
   "source": [
    "Excellent! Now we have saved those individual fishes into separate Shapefiles and named the file according to the species name. These kind of grouping operations can be really handy when dealing with Shapefiles. Doing similar process manually would be really laborious and error-prone."
   ]
  },
  {
   "cell_type": "markdown",
   "metadata": {},
   "source": [
    "## Summary\n",
    "\n",
    "In this tutorial we introduced the first steps of using geopandas. More specifically you should know how to:\n",
    "\n",
    "**1)** Read data from Shapefile using geopandas,\n",
    "\n",
    "**2)** Write GeoDataFrame data from Shapefile using geopandas,\n",
    "\n",
    "**3)** Create a GeoDataFrame from scratch, and\n",
    "\n",
    "**4)** automate a task to save specific rows from data into Shapefile based on specific key using `groupby()` -function. "
   ]
  }
 ],
 "metadata": {
  "kernelspec": {
   "display_name": "Python [conda env:py37] *",
   "language": "python",
   "name": "conda-env-py37-py"
  },
  "language_info": {
   "codemirror_mode": {
    "name": "ipython",
    "version": 3
   },
   "file_extension": ".py",
   "mimetype": "text/x-python",
   "name": "python",
   "nbconvert_exporter": "python",
   "pygments_lexer": "ipython3",
   "version": "3.7.3"
  },
  "varInspector": {
   "cols": {
    "lenName": 16,
    "lenType": 16,
    "lenVar": 40
   },
   "kernels_config": {
    "python": {
     "delete_cmd_postfix": "",
     "delete_cmd_prefix": "del ",
     "library": "var_list.py",
     "varRefreshCmd": "print(var_dic_list())"
    },
    "r": {
     "delete_cmd_postfix": ") ",
     "delete_cmd_prefix": "rm(",
     "library": "var_list.r",
     "varRefreshCmd": "cat(var_dic_list()) "
    }
   },
   "types_to_exclude": [
    "module",
    "function",
    "builtin_function_or_method",
    "instance",
    "_Feature"
   ],
   "window_display": true
  }
 },
 "nbformat": 4,
 "nbformat_minor": 1
}
